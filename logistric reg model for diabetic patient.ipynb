{
 "cells": [
  {
   "cell_type": "code",
   "execution_count": 1,
   "id": "2bc74972",
   "metadata": {},
   "outputs": [],
   "source": [
    "import pandas as pd\n",
    "import numpy as np\n",
    "import matplotlib.pyplot as plt\n"
   ]
  },
  {
   "cell_type": "code",
   "execution_count": 2,
   "id": "76d7ea56",
   "metadata": {},
   "outputs": [
    {
     "data": {
      "text/html": [
       "<div>\n",
       "<style scoped>\n",
       "    .dataframe tbody tr th:only-of-type {\n",
       "        vertical-align: middle;\n",
       "    }\n",
       "\n",
       "    .dataframe tbody tr th {\n",
       "        vertical-align: top;\n",
       "    }\n",
       "\n",
       "    .dataframe thead th {\n",
       "        text-align: right;\n",
       "    }\n",
       "</style>\n",
       "<table border=\"1\" class=\"dataframe\">\n",
       "  <thead>\n",
       "    <tr style=\"text-align: right;\">\n",
       "      <th></th>\n",
       "      <th>Pregnancies</th>\n",
       "      <th>Glucose</th>\n",
       "      <th>BloodPressure</th>\n",
       "      <th>SkinThickness</th>\n",
       "      <th>Insulin</th>\n",
       "      <th>BMI</th>\n",
       "      <th>DiabetesPedigreeFunction</th>\n",
       "      <th>Age</th>\n",
       "      <th>Outcome</th>\n",
       "    </tr>\n",
       "  </thead>\n",
       "  <tbody>\n",
       "    <tr>\n",
       "      <th>0</th>\n",
       "      <td>6</td>\n",
       "      <td>148</td>\n",
       "      <td>72</td>\n",
       "      <td>35</td>\n",
       "      <td>0</td>\n",
       "      <td>33.6</td>\n",
       "      <td>0.627</td>\n",
       "      <td>50</td>\n",
       "      <td>1</td>\n",
       "    </tr>\n",
       "    <tr>\n",
       "      <th>1</th>\n",
       "      <td>1</td>\n",
       "      <td>85</td>\n",
       "      <td>66</td>\n",
       "      <td>29</td>\n",
       "      <td>0</td>\n",
       "      <td>26.6</td>\n",
       "      <td>0.351</td>\n",
       "      <td>31</td>\n",
       "      <td>0</td>\n",
       "    </tr>\n",
       "    <tr>\n",
       "      <th>2</th>\n",
       "      <td>8</td>\n",
       "      <td>183</td>\n",
       "      <td>64</td>\n",
       "      <td>0</td>\n",
       "      <td>0</td>\n",
       "      <td>23.3</td>\n",
       "      <td>0.672</td>\n",
       "      <td>32</td>\n",
       "      <td>1</td>\n",
       "    </tr>\n",
       "    <tr>\n",
       "      <th>3</th>\n",
       "      <td>1</td>\n",
       "      <td>89</td>\n",
       "      <td>66</td>\n",
       "      <td>23</td>\n",
       "      <td>94</td>\n",
       "      <td>28.1</td>\n",
       "      <td>0.167</td>\n",
       "      <td>21</td>\n",
       "      <td>0</td>\n",
       "    </tr>\n",
       "    <tr>\n",
       "      <th>4</th>\n",
       "      <td>0</td>\n",
       "      <td>137</td>\n",
       "      <td>40</td>\n",
       "      <td>35</td>\n",
       "      <td>168</td>\n",
       "      <td>43.1</td>\n",
       "      <td>2.288</td>\n",
       "      <td>33</td>\n",
       "      <td>1</td>\n",
       "    </tr>\n",
       "  </tbody>\n",
       "</table>\n",
       "</div>"
      ],
      "text/plain": [
       "   Pregnancies  Glucose  BloodPressure  SkinThickness  Insulin   BMI  \\\n",
       "0            6      148             72             35        0  33.6   \n",
       "1            1       85             66             29        0  26.6   \n",
       "2            8      183             64              0        0  23.3   \n",
       "3            1       89             66             23       94  28.1   \n",
       "4            0      137             40             35      168  43.1   \n",
       "\n",
       "   DiabetesPedigreeFunction  Age  Outcome  \n",
       "0                     0.627   50        1  \n",
       "1                     0.351   31        0  \n",
       "2                     0.672   32        1  \n",
       "3                     0.167   21        0  \n",
       "4                     2.288   33        1  "
      ]
     },
     "execution_count": 2,
     "metadata": {},
     "output_type": "execute_result"
    }
   ],
   "source": [
    "data = pd.read_csv(r'C:\\Users\\nayan\\OneDrive\\Desktop\\model\\diabetes.csv')\n",
    "data.head()"
   ]
  },
  {
   "cell_type": "code",
   "execution_count": 3,
   "id": "fce0405a",
   "metadata": {},
   "outputs": [],
   "source": [
    "x = data.iloc[:,:-1].values\n",
    "y = data.iloc[:,8].values"
   ]
  },
  {
   "cell_type": "code",
   "execution_count": 4,
   "id": "abc23b58",
   "metadata": {},
   "outputs": [],
   "source": [
    "#Encoding categorical variables\n",
    "from sklearn.preprocessing import LabelEncoder\n",
    "label_encoder_y = LabelEncoder()\n",
    "y=label_encoder_y.fit_transform(y)"
   ]
  },
  {
   "cell_type": "code",
   "execution_count": 5,
   "id": "db97635f",
   "metadata": {},
   "outputs": [],
   "source": [
    "from sklearn.model_selection import train_test_split\n",
    "x_train , x_test  ,y_train , y_test= train_test_split(x , y , test_size = 0.25 , random_state = 0) "
   ]
  },
  {
   "cell_type": "code",
   "execution_count": null,
   "id": "8e364283",
   "metadata": {},
   "outputs": [],
   "source": []
  },
  {
   "cell_type": "code",
   "execution_count": 6,
   "id": "36961197",
   "metadata": {},
   "outputs": [],
   "source": [
    "from sklearn.preprocessing import StandardScaler\n",
    "\n",
    "sc_x = StandardScaler()\n"
   ]
  },
  {
   "cell_type": "code",
   "execution_count": 7,
   "id": "71f860e6",
   "metadata": {},
   "outputs": [],
   "source": [
    "x_train = sc_x.fit_transform(x_train)\n",
    "x_test = sc_x.fit_transform(x_test)"
   ]
  },
  {
   "cell_type": "code",
   "execution_count": 8,
   "id": "1e75c880",
   "metadata": {},
   "outputs": [],
   "source": [
    "#Fitting logistic regression model with sklearn package"
   ]
  },
  {
   "cell_type": "code",
   "execution_count": 9,
   "id": "988db918",
   "metadata": {},
   "outputs": [],
   "source": [
    "from sklearn.linear_model import LogisticRegression\n",
    "classifier = LogisticRegression(random_state = 0)\n"
   ]
  },
  {
   "cell_type": "code",
   "execution_count": 10,
   "id": "5ec1de65",
   "metadata": {},
   "outputs": [
    {
     "data": {
      "text/plain": [
       "LogisticRegression(random_state=0)"
      ]
     },
     "execution_count": 10,
     "metadata": {},
     "output_type": "execute_result"
    }
   ],
   "source": [
    "classifier.fit(x_train , y_train)"
   ]
  },
  {
   "cell_type": "code",
   "execution_count": 11,
   "id": "214cd2b4",
   "metadata": {},
   "outputs": [],
   "source": [
    "#Prediction\n",
    "pred1 = classifier.predict(x_test)\n"
   ]
  },
  {
   "cell_type": "code",
   "execution_count": 12,
   "id": "3544ff3b",
   "metadata": {},
   "outputs": [],
   "source": [
    "from sklearn.metrics import confusion_matrix\n",
    "cm = confusion_matrix(y_test , pred1)"
   ]
  },
  {
   "cell_type": "code",
   "execution_count": 13,
   "id": "94762c65",
   "metadata": {},
   "outputs": [
    {
     "data": {
      "text/plain": [
       "array([[117,  13],\n",
       "       [ 26,  36]], dtype=int64)"
      ]
     },
     "execution_count": 13,
     "metadata": {},
     "output_type": "execute_result"
    }
   ],
   "source": [
    "cm"
   ]
  },
  {
   "cell_type": "code",
   "execution_count": 14,
   "id": "f8370877",
   "metadata": {},
   "outputs": [],
   "source": [
    "#tp - 118b\n",
    "#tn - 36\n",
    "#fp - 26\n",
    "#fn - 13"
   ]
  },
  {
   "cell_type": "code",
   "execution_count": 15,
   "id": "e8ff70c9",
   "metadata": {},
   "outputs": [
    {
     "data": {
      "text/plain": [
       "0.8020833333333334"
      ]
     },
     "execution_count": 15,
     "metadata": {},
     "output_type": "execute_result"
    }
   ],
   "source": [
    "(118+36)/192"
   ]
  },
  {
   "cell_type": "code",
   "execution_count": null,
   "id": "5d9f4b36",
   "metadata": {},
   "outputs": [],
   "source": []
  },
  {
   "cell_type": "code",
   "execution_count": null,
   "id": "b2f74de2",
   "metadata": {},
   "outputs": [],
   "source": [
    "#using stats model"
   ]
  },
  {
   "cell_type": "code",
   "execution_count": 17,
   "id": "ba2535c5",
   "metadata": {},
   "outputs": [],
   "source": [
    "from sklearn.model_selection import train_test_split"
   ]
  },
  {
   "cell_type": "code",
   "execution_count": 18,
   "id": "e0c1dd62",
   "metadata": {},
   "outputs": [],
   "source": [
    "x_train_s , x_test_s , y_train_s , y_test_s = train_test_split(x,y,test_size = 0.25,random_state=0)"
   ]
  },
  {
   "cell_type": "code",
   "execution_count": 19,
   "id": "3991dea0",
   "metadata": {},
   "outputs": [],
   "source": [
    "from sklearn.preprocessing import StandardScaler\n",
    "sc_x_s = StandardScaler()"
   ]
  },
  {
   "cell_type": "code",
   "execution_count": 20,
   "id": "965f6e2e",
   "metadata": {},
   "outputs": [],
   "source": [
    "x_train_s = sc_x_s.fit_transform(x_train_s)\n",
    "x_test_s = sc_x_s.fit_transform(x_test_s)"
   ]
  },
  {
   "cell_type": "code",
   "execution_count": 21,
   "id": "7b56c139",
   "metadata": {},
   "outputs": [],
   "source": [
    "#Adding  one extra column"
   ]
  },
  {
   "cell_type": "code",
   "execution_count": 22,
   "id": "d258c118",
   "metadata": {},
   "outputs": [],
   "source": [
    "import statsmodels.api as sm\n",
    "x_train_s = sm.add_constant(x_train_s)\n",
    "x_test_s = sm.add_constant(x_test_s)"
   ]
  },
  {
   "cell_type": "code",
   "execution_count": 23,
   "id": "6c97e9eb",
   "metadata": {},
   "outputs": [
    {
     "name": "stdout",
     "output_type": "stream",
     "text": [
      "Optimization terminated successfully.\n",
      "         Current function value: 0.482517\n",
      "         Iterations 6\n"
     ]
    }
   ],
   "source": [
    "import statsmodels.api as smf\n",
    "classifier2 = smf.Logit(y_train_s, x_train_s).fit()"
   ]
  },
  {
   "cell_type": "code",
   "execution_count": 24,
   "id": "83a1ced7",
   "metadata": {},
   "outputs": [
    {
     "data": {
      "text/html": [
       "<table class=\"simpletable\">\n",
       "<caption>Logit Regression Results</caption>\n",
       "<tr>\n",
       "  <th>Dep. Variable:</th>           <td>y</td>        <th>  No. Observations:  </th>  <td>   576</td>  \n",
       "</tr>\n",
       "<tr>\n",
       "  <th>Model:</th>                 <td>Logit</td>      <th>  Df Residuals:      </th>  <td>   567</td>  \n",
       "</tr>\n",
       "<tr>\n",
       "  <th>Method:</th>                 <td>MLE</td>       <th>  Df Model:          </th>  <td>     8</td>  \n",
       "</tr>\n",
       "<tr>\n",
       "  <th>Date:</th>            <td>Sat, 01 Jun 2024</td> <th>  Pseudo R-squ.:     </th>  <td>0.2600</td>  \n",
       "</tr>\n",
       "<tr>\n",
       "  <th>Time:</th>                <td>11:21:42</td>     <th>  Log-Likelihood:    </th> <td> -277.93</td> \n",
       "</tr>\n",
       "<tr>\n",
       "  <th>converged:</th>             <td>True</td>       <th>  LL-Null:           </th> <td> -375.58</td> \n",
       "</tr>\n",
       "<tr>\n",
       "  <th>Covariance Type:</th>     <td>nonrobust</td>    <th>  LLR p-value:       </th> <td>6.246e-38</td>\n",
       "</tr>\n",
       "</table>\n",
       "<table class=\"simpletable\">\n",
       "<tr>\n",
       "    <td></td>       <th>coef</th>     <th>std err</th>      <th>z</th>      <th>P>|z|</th>  <th>[0.025</th>    <th>0.975]</th>  \n",
       "</tr>\n",
       "<tr>\n",
       "  <th>const</th> <td>   -0.8156</td> <td>    0.110</td> <td>   -7.414</td> <td> 0.000</td> <td>   -1.031</td> <td>   -0.600</td>\n",
       "</tr>\n",
       "<tr>\n",
       "  <th>x1</th>    <td>    0.2976</td> <td>    0.122</td> <td>    2.448</td> <td> 0.014</td> <td>    0.059</td> <td>    0.536</td>\n",
       "</tr>\n",
       "<tr>\n",
       "  <th>x2</th>    <td>    1.0517</td> <td>    0.135</td> <td>    7.802</td> <td> 0.000</td> <td>    0.787</td> <td>    1.316</td>\n",
       "</tr>\n",
       "<tr>\n",
       "  <th>x3</th>    <td>   -0.2127</td> <td>    0.117</td> <td>   -1.815</td> <td> 0.070</td> <td>   -0.442</td> <td>    0.017</td>\n",
       "</tr>\n",
       "<tr>\n",
       "  <th>x4</th>    <td>    0.0943</td> <td>    0.129</td> <td>    0.728</td> <td> 0.466</td> <td>   -0.159</td> <td>    0.348</td>\n",
       "</tr>\n",
       "<tr>\n",
       "  <th>x5</th>    <td>   -0.1207</td> <td>    0.119</td> <td>   -1.011</td> <td> 0.312</td> <td>   -0.355</td> <td>    0.113</td>\n",
       "</tr>\n",
       "<tr>\n",
       "  <th>x6</th>    <td>    0.6998</td> <td>    0.137</td> <td>    5.103</td> <td> 0.000</td> <td>    0.431</td> <td>    0.969</td>\n",
       "</tr>\n",
       "<tr>\n",
       "  <th>x7</th>    <td>    0.2967</td> <td>    0.114</td> <td>    2.613</td> <td> 0.009</td> <td>    0.074</td> <td>    0.519</td>\n",
       "</tr>\n",
       "<tr>\n",
       "  <th>x8</th>    <td>    0.2642</td> <td>    0.129</td> <td>    2.049</td> <td> 0.040</td> <td>    0.012</td> <td>    0.517</td>\n",
       "</tr>\n",
       "</table>"
      ],
      "text/plain": [
       "<class 'statsmodels.iolib.summary.Summary'>\n",
       "\"\"\"\n",
       "                           Logit Regression Results                           \n",
       "==============================================================================\n",
       "Dep. Variable:                      y   No. Observations:                  576\n",
       "Model:                          Logit   Df Residuals:                      567\n",
       "Method:                           MLE   Df Model:                            8\n",
       "Date:                Sat, 01 Jun 2024   Pseudo R-squ.:                  0.2600\n",
       "Time:                        11:21:42   Log-Likelihood:                -277.93\n",
       "converged:                       True   LL-Null:                       -375.58\n",
       "Covariance Type:            nonrobust   LLR p-value:                 6.246e-38\n",
       "==============================================================================\n",
       "                 coef    std err          z      P>|z|      [0.025      0.975]\n",
       "------------------------------------------------------------------------------\n",
       "const         -0.8156      0.110     -7.414      0.000      -1.031      -0.600\n",
       "x1             0.2976      0.122      2.448      0.014       0.059       0.536\n",
       "x2             1.0517      0.135      7.802      0.000       0.787       1.316\n",
       "x3            -0.2127      0.117     -1.815      0.070      -0.442       0.017\n",
       "x4             0.0943      0.129      0.728      0.466      -0.159       0.348\n",
       "x5            -0.1207      0.119     -1.011      0.312      -0.355       0.113\n",
       "x6             0.6998      0.137      5.103      0.000       0.431       0.969\n",
       "x7             0.2967      0.114      2.613      0.009       0.074       0.519\n",
       "x8             0.2642      0.129      2.049      0.040       0.012       0.517\n",
       "==============================================================================\n",
       "\"\"\""
      ]
     },
     "execution_count": 24,
     "metadata": {},
     "output_type": "execute_result"
    }
   ],
   "source": [
    "classifier2.summary()"
   ]
  },
  {
   "cell_type": "code",
   "execution_count": 25,
   "id": "ed2ccf78",
   "metadata": {},
   "outputs": [],
   "source": [
    "pred2 = classifier2.predict(x_test_s)\n"
   ]
  },
  {
   "cell_type": "code",
   "execution_count": 26,
   "id": "84261fba",
   "metadata": {},
   "outputs": [],
   "source": [
    "pred2\n",
    "#converting pred2 to int , bcz it gices probability\n",
    "pred2 = (pred2>0.5).astype(int)"
   ]
  },
  {
   "cell_type": "code",
   "execution_count": 27,
   "id": "10f7b7a8",
   "metadata": {},
   "outputs": [
    {
     "data": {
      "text/plain": [
       "array([1, 0, 0, 1, 0, 0, 1, 1, 0, 0, 1, 1, 0, 0, 0, 0, 1, 0, 0, 0, 1, 0,\n",
       "       0, 0, 0, 0, 0, 1, 0, 0, 0, 0, 0, 0, 0, 1, 0, 0, 0, 1, 0, 0, 0, 1,\n",
       "       1, 0, 0, 0, 0, 0, 0, 0, 1, 1, 0, 0, 0, 1, 0, 0, 1, 0, 0, 1, 1, 1,\n",
       "       1, 0, 0, 0, 0, 0, 0, 1, 1, 0, 0, 1, 0, 0, 0, 0, 0, 0, 0, 0, 0, 0,\n",
       "       1, 0, 0, 0, 0, 0, 1, 0, 0, 1, 1, 0, 0, 0, 0, 0, 1, 0, 0, 0, 0, 1,\n",
       "       0, 0, 1, 0, 1, 1, 0, 1, 0, 1, 0, 0, 0, 0, 0, 0, 0, 0, 0, 0, 0, 0,\n",
       "       0, 1, 0, 0, 0, 0, 1, 0, 0, 1, 0, 0, 0, 0, 0, 0, 0, 0, 0, 1, 0, 0,\n",
       "       1, 0, 1, 0, 0, 1, 1, 1, 0, 0, 1, 0, 0, 0, 0, 0, 0, 0, 0, 0, 1, 0,\n",
       "       0, 0, 0, 0, 0, 1, 0, 1, 1, 0, 1, 0, 0, 0, 0, 0])"
      ]
     },
     "execution_count": 27,
     "metadata": {},
     "output_type": "execute_result"
    }
   ],
   "source": [
    "pred2"
   ]
  },
  {
   "cell_type": "code",
   "execution_count": 28,
   "id": "b01a70d0",
   "metadata": {},
   "outputs": [],
   "source": [
    "cm2 = confusion_matrix(y_test_s , pred2)"
   ]
  },
  {
   "cell_type": "code",
   "execution_count": 29,
   "id": "f46d22fd",
   "metadata": {},
   "outputs": [
    {
     "data": {
      "text/plain": [
       "array([[117,  13],\n",
       "       [ 25,  37]], dtype=int64)"
      ]
     },
     "execution_count": 29,
     "metadata": {},
     "output_type": "execute_result"
    }
   ],
   "source": [
    "cm2"
   ]
  },
  {
   "cell_type": "code",
   "execution_count": 30,
   "id": "9fd77a19",
   "metadata": {},
   "outputs": [
    {
     "data": {
      "text/html": [
       "<table class=\"simpletable\">\n",
       "<caption>Logit Regression Results</caption>\n",
       "<tr>\n",
       "  <th>Dep. Variable:</th>           <td>y</td>        <th>  No. Observations:  </th>  <td>   576</td>  \n",
       "</tr>\n",
       "<tr>\n",
       "  <th>Model:</th>                 <td>Logit</td>      <th>  Df Residuals:      </th>  <td>   567</td>  \n",
       "</tr>\n",
       "<tr>\n",
       "  <th>Method:</th>                 <td>MLE</td>       <th>  Df Model:          </th>  <td>     8</td>  \n",
       "</tr>\n",
       "<tr>\n",
       "  <th>Date:</th>            <td>Sat, 01 Jun 2024</td> <th>  Pseudo R-squ.:     </th>  <td>0.2600</td>  \n",
       "</tr>\n",
       "<tr>\n",
       "  <th>Time:</th>                <td>11:21:43</td>     <th>  Log-Likelihood:    </th> <td> -277.93</td> \n",
       "</tr>\n",
       "<tr>\n",
       "  <th>converged:</th>             <td>True</td>       <th>  LL-Null:           </th> <td> -375.58</td> \n",
       "</tr>\n",
       "<tr>\n",
       "  <th>Covariance Type:</th>     <td>nonrobust</td>    <th>  LLR p-value:       </th> <td>6.246e-38</td>\n",
       "</tr>\n",
       "</table>\n",
       "<table class=\"simpletable\">\n",
       "<tr>\n",
       "    <td></td>       <th>coef</th>     <th>std err</th>      <th>z</th>      <th>P>|z|</th>  <th>[0.025</th>    <th>0.975]</th>  \n",
       "</tr>\n",
       "<tr>\n",
       "  <th>const</th> <td>   -0.8156</td> <td>    0.110</td> <td>   -7.414</td> <td> 0.000</td> <td>   -1.031</td> <td>   -0.600</td>\n",
       "</tr>\n",
       "<tr>\n",
       "  <th>x1</th>    <td>    0.2976</td> <td>    0.122</td> <td>    2.448</td> <td> 0.014</td> <td>    0.059</td> <td>    0.536</td>\n",
       "</tr>\n",
       "<tr>\n",
       "  <th>x2</th>    <td>    1.0517</td> <td>    0.135</td> <td>    7.802</td> <td> 0.000</td> <td>    0.787</td> <td>    1.316</td>\n",
       "</tr>\n",
       "<tr>\n",
       "  <th>x3</th>    <td>   -0.2127</td> <td>    0.117</td> <td>   -1.815</td> <td> 0.070</td> <td>   -0.442</td> <td>    0.017</td>\n",
       "</tr>\n",
       "<tr>\n",
       "  <th>x4</th>    <td>    0.0943</td> <td>    0.129</td> <td>    0.728</td> <td> 0.466</td> <td>   -0.159</td> <td>    0.348</td>\n",
       "</tr>\n",
       "<tr>\n",
       "  <th>x5</th>    <td>   -0.1207</td> <td>    0.119</td> <td>   -1.011</td> <td> 0.312</td> <td>   -0.355</td> <td>    0.113</td>\n",
       "</tr>\n",
       "<tr>\n",
       "  <th>x6</th>    <td>    0.6998</td> <td>    0.137</td> <td>    5.103</td> <td> 0.000</td> <td>    0.431</td> <td>    0.969</td>\n",
       "</tr>\n",
       "<tr>\n",
       "  <th>x7</th>    <td>    0.2967</td> <td>    0.114</td> <td>    2.613</td> <td> 0.009</td> <td>    0.074</td> <td>    0.519</td>\n",
       "</tr>\n",
       "<tr>\n",
       "  <th>x8</th>    <td>    0.2642</td> <td>    0.129</td> <td>    2.049</td> <td> 0.040</td> <td>    0.012</td> <td>    0.517</td>\n",
       "</tr>\n",
       "</table>"
      ],
      "text/plain": [
       "<class 'statsmodels.iolib.summary.Summary'>\n",
       "\"\"\"\n",
       "                           Logit Regression Results                           \n",
       "==============================================================================\n",
       "Dep. Variable:                      y   No. Observations:                  576\n",
       "Model:                          Logit   Df Residuals:                      567\n",
       "Method:                           MLE   Df Model:                            8\n",
       "Date:                Sat, 01 Jun 2024   Pseudo R-squ.:                  0.2600\n",
       "Time:                        11:21:43   Log-Likelihood:                -277.93\n",
       "converged:                       True   LL-Null:                       -375.58\n",
       "Covariance Type:            nonrobust   LLR p-value:                 6.246e-38\n",
       "==============================================================================\n",
       "                 coef    std err          z      P>|z|      [0.025      0.975]\n",
       "------------------------------------------------------------------------------\n",
       "const         -0.8156      0.110     -7.414      0.000      -1.031      -0.600\n",
       "x1             0.2976      0.122      2.448      0.014       0.059       0.536\n",
       "x2             1.0517      0.135      7.802      0.000       0.787       1.316\n",
       "x3            -0.2127      0.117     -1.815      0.070      -0.442       0.017\n",
       "x4             0.0943      0.129      0.728      0.466      -0.159       0.348\n",
       "x5            -0.1207      0.119     -1.011      0.312      -0.355       0.113\n",
       "x6             0.6998      0.137      5.103      0.000       0.431       0.969\n",
       "x7             0.2967      0.114      2.613      0.009       0.074       0.519\n",
       "x8             0.2642      0.129      2.049      0.040       0.012       0.517\n",
       "==============================================================================\n",
       "\"\"\""
      ]
     },
     "execution_count": 30,
     "metadata": {},
     "output_type": "execute_result"
    }
   ],
   "source": [
    "classifier2.summary()"
   ]
  },
  {
   "cell_type": "code",
   "execution_count": 31,
   "id": "87d54551",
   "metadata": {},
   "outputs": [],
   "source": [
    "#AIC SCORE\n",
    "#AIC  = -2 (Log-Likelihood) + 2(Number pf variables in model)\n",
    "#Akaike Information Criterion "
   ]
  },
  {
   "cell_type": "code",
   "execution_count": 32,
   "id": "1d8df313",
   "metadata": {},
   "outputs": [
    {
     "data": {
      "text/plain": [
       "571.86"
      ]
     },
     "execution_count": 32,
     "metadata": {},
     "output_type": "execute_result"
    }
   ],
   "source": [
    "aic_1 = -2*(-277.93) + 2*(8)\n",
    "aic_1"
   ]
  },
  {
   "cell_type": "code",
   "execution_count": 33,
   "id": "82f5579e",
   "metadata": {},
   "outputs": [],
   "source": [
    "#making optimum model\n",
    "x_opt =  x_train_s[:,[0,1,2,3,4,5,6,7,8]]\n"
   ]
  },
  {
   "cell_type": "code",
   "execution_count": 34,
   "id": "5e9e0189",
   "metadata": {},
   "outputs": [
    {
     "name": "stdout",
     "output_type": "stream",
     "text": [
      "Optimization terminated successfully.\n",
      "         Current function value: 0.482517\n",
      "         Iterations 6\n"
     ]
    },
    {
     "data": {
      "text/html": [
       "<table class=\"simpletable\">\n",
       "<caption>Logit Regression Results</caption>\n",
       "<tr>\n",
       "  <th>Dep. Variable:</th>           <td>y</td>        <th>  No. Observations:  </th>  <td>   576</td>  \n",
       "</tr>\n",
       "<tr>\n",
       "  <th>Model:</th>                 <td>Logit</td>      <th>  Df Residuals:      </th>  <td>   567</td>  \n",
       "</tr>\n",
       "<tr>\n",
       "  <th>Method:</th>                 <td>MLE</td>       <th>  Df Model:          </th>  <td>     8</td>  \n",
       "</tr>\n",
       "<tr>\n",
       "  <th>Date:</th>            <td>Sat, 01 Jun 2024</td> <th>  Pseudo R-squ.:     </th>  <td>0.2600</td>  \n",
       "</tr>\n",
       "<tr>\n",
       "  <th>Time:</th>                <td>11:21:44</td>     <th>  Log-Likelihood:    </th> <td> -277.93</td> \n",
       "</tr>\n",
       "<tr>\n",
       "  <th>converged:</th>             <td>True</td>       <th>  LL-Null:           </th> <td> -375.58</td> \n",
       "</tr>\n",
       "<tr>\n",
       "  <th>Covariance Type:</th>     <td>nonrobust</td>    <th>  LLR p-value:       </th> <td>6.246e-38</td>\n",
       "</tr>\n",
       "</table>\n",
       "<table class=\"simpletable\">\n",
       "<tr>\n",
       "    <td></td>       <th>coef</th>     <th>std err</th>      <th>z</th>      <th>P>|z|</th>  <th>[0.025</th>    <th>0.975]</th>  \n",
       "</tr>\n",
       "<tr>\n",
       "  <th>const</th> <td>   -0.8156</td> <td>    0.110</td> <td>   -7.414</td> <td> 0.000</td> <td>   -1.031</td> <td>   -0.600</td>\n",
       "</tr>\n",
       "<tr>\n",
       "  <th>x1</th>    <td>    0.2976</td> <td>    0.122</td> <td>    2.448</td> <td> 0.014</td> <td>    0.059</td> <td>    0.536</td>\n",
       "</tr>\n",
       "<tr>\n",
       "  <th>x2</th>    <td>    1.0517</td> <td>    0.135</td> <td>    7.802</td> <td> 0.000</td> <td>    0.787</td> <td>    1.316</td>\n",
       "</tr>\n",
       "<tr>\n",
       "  <th>x3</th>    <td>   -0.2127</td> <td>    0.117</td> <td>   -1.815</td> <td> 0.070</td> <td>   -0.442</td> <td>    0.017</td>\n",
       "</tr>\n",
       "<tr>\n",
       "  <th>x4</th>    <td>    0.0943</td> <td>    0.129</td> <td>    0.728</td> <td> 0.466</td> <td>   -0.159</td> <td>    0.348</td>\n",
       "</tr>\n",
       "<tr>\n",
       "  <th>x5</th>    <td>   -0.1207</td> <td>    0.119</td> <td>   -1.011</td> <td> 0.312</td> <td>   -0.355</td> <td>    0.113</td>\n",
       "</tr>\n",
       "<tr>\n",
       "  <th>x6</th>    <td>    0.6998</td> <td>    0.137</td> <td>    5.103</td> <td> 0.000</td> <td>    0.431</td> <td>    0.969</td>\n",
       "</tr>\n",
       "<tr>\n",
       "  <th>x7</th>    <td>    0.2967</td> <td>    0.114</td> <td>    2.613</td> <td> 0.009</td> <td>    0.074</td> <td>    0.519</td>\n",
       "</tr>\n",
       "<tr>\n",
       "  <th>x8</th>    <td>    0.2642</td> <td>    0.129</td> <td>    2.049</td> <td> 0.040</td> <td>    0.012</td> <td>    0.517</td>\n",
       "</tr>\n",
       "</table>"
      ],
      "text/plain": [
       "<class 'statsmodels.iolib.summary.Summary'>\n",
       "\"\"\"\n",
       "                           Logit Regression Results                           \n",
       "==============================================================================\n",
       "Dep. Variable:                      y   No. Observations:                  576\n",
       "Model:                          Logit   Df Residuals:                      567\n",
       "Method:                           MLE   Df Model:                            8\n",
       "Date:                Sat, 01 Jun 2024   Pseudo R-squ.:                  0.2600\n",
       "Time:                        11:21:44   Log-Likelihood:                -277.93\n",
       "converged:                       True   LL-Null:                       -375.58\n",
       "Covariance Type:            nonrobust   LLR p-value:                 6.246e-38\n",
       "==============================================================================\n",
       "                 coef    std err          z      P>|z|      [0.025      0.975]\n",
       "------------------------------------------------------------------------------\n",
       "const         -0.8156      0.110     -7.414      0.000      -1.031      -0.600\n",
       "x1             0.2976      0.122      2.448      0.014       0.059       0.536\n",
       "x2             1.0517      0.135      7.802      0.000       0.787       1.316\n",
       "x3            -0.2127      0.117     -1.815      0.070      -0.442       0.017\n",
       "x4             0.0943      0.129      0.728      0.466      -0.159       0.348\n",
       "x5            -0.1207      0.119     -1.011      0.312      -0.355       0.113\n",
       "x6             0.6998      0.137      5.103      0.000       0.431       0.969\n",
       "x7             0.2967      0.114      2.613      0.009       0.074       0.519\n",
       "x8             0.2642      0.129      2.049      0.040       0.012       0.517\n",
       "==============================================================================\n",
       "\"\"\""
      ]
     },
     "execution_count": 34,
     "metadata": {},
     "output_type": "execute_result"
    }
   ],
   "source": [
    "classifier_b = smf.Logit(y_train_s, x_opt).fit()\n",
    "classifier_b.summary()"
   ]
  },
  {
   "cell_type": "code",
   "execution_count": 35,
   "id": "5700774f",
   "metadata": {},
   "outputs": [
    {
     "data": {
      "text/plain": [
       "array([[117,  13],\n",
       "       [ 25,  37]], dtype=int64)"
      ]
     },
     "execution_count": 35,
     "metadata": {},
     "output_type": "execute_result"
    }
   ],
   "source": [
    "cm2"
   ]
  },
  {
   "cell_type": "code",
   "execution_count": 36,
   "id": "25d47610",
   "metadata": {},
   "outputs": [],
   "source": [
    "#missclassification - 38"
   ]
  },
  {
   "cell_type": "code",
   "execution_count": 37,
   "id": "358204c6",
   "metadata": {},
   "outputs": [],
   "source": [
    "#step2"
   ]
  },
  {
   "cell_type": "code",
   "execution_count": 38,
   "id": "8e4cd166",
   "metadata": {},
   "outputs": [
    {
     "name": "stdout",
     "output_type": "stream",
     "text": [
      "Optimization terminated successfully.\n",
      "         Current function value: 0.482980\n",
      "         Iterations 6\n"
     ]
    },
    {
     "data": {
      "text/html": [
       "<table class=\"simpletable\">\n",
       "<caption>Logit Regression Results</caption>\n",
       "<tr>\n",
       "  <th>Dep. Variable:</th>           <td>y</td>        <th>  No. Observations:  </th>  <td>   576</td>  \n",
       "</tr>\n",
       "<tr>\n",
       "  <th>Model:</th>                 <td>Logit</td>      <th>  Df Residuals:      </th>  <td>   568</td>  \n",
       "</tr>\n",
       "<tr>\n",
       "  <th>Method:</th>                 <td>MLE</td>       <th>  Df Model:          </th>  <td>     7</td>  \n",
       "</tr>\n",
       "<tr>\n",
       "  <th>Date:</th>            <td>Sat, 01 Jun 2024</td> <th>  Pseudo R-squ.:     </th>  <td>0.2593</td>  \n",
       "</tr>\n",
       "<tr>\n",
       "  <th>Time:</th>                <td>11:21:44</td>     <th>  Log-Likelihood:    </th> <td> -278.20</td> \n",
       "</tr>\n",
       "<tr>\n",
       "  <th>converged:</th>             <td>True</td>       <th>  LL-Null:           </th> <td> -375.58</td> \n",
       "</tr>\n",
       "<tr>\n",
       "  <th>Covariance Type:</th>     <td>nonrobust</td>    <th>  LLR p-value:       </th> <td>1.472e-38</td>\n",
       "</tr>\n",
       "</table>\n",
       "<table class=\"simpletable\">\n",
       "<tr>\n",
       "    <td></td>       <th>coef</th>     <th>std err</th>      <th>z</th>      <th>P>|z|</th>  <th>[0.025</th>    <th>0.975]</th>  \n",
       "</tr>\n",
       "<tr>\n",
       "  <th>const</th> <td>   -0.8163</td> <td>    0.110</td> <td>   -7.423</td> <td> 0.000</td> <td>   -1.032</td> <td>   -0.601</td>\n",
       "</tr>\n",
       "<tr>\n",
       "  <th>x1</th>    <td>    0.3015</td> <td>    0.121</td> <td>    2.491</td> <td> 0.013</td> <td>    0.064</td> <td>    0.539</td>\n",
       "</tr>\n",
       "<tr>\n",
       "  <th>x2</th>    <td>    1.0360</td> <td>    0.132</td> <td>    7.823</td> <td> 0.000</td> <td>    0.776</td> <td>    1.296</td>\n",
       "</tr>\n",
       "<tr>\n",
       "  <th>x3</th>    <td>   -0.1971</td> <td>    0.115</td> <td>   -1.714</td> <td> 0.087</td> <td>   -0.422</td> <td>    0.028</td>\n",
       "</tr>\n",
       "<tr>\n",
       "  <th>x4</th>    <td>   -0.0837</td> <td>    0.108</td> <td>   -0.775</td> <td> 0.438</td> <td>   -0.295</td> <td>    0.128</td>\n",
       "</tr>\n",
       "<tr>\n",
       "  <th>x5</th>    <td>    0.7321</td> <td>    0.130</td> <td>    5.621</td> <td> 0.000</td> <td>    0.477</td> <td>    0.987</td>\n",
       "</tr>\n",
       "<tr>\n",
       "  <th>x6</th>    <td>    0.3030</td> <td>    0.114</td> <td>    2.668</td> <td> 0.008</td> <td>    0.080</td> <td>    0.526</td>\n",
       "</tr>\n",
       "<tr>\n",
       "  <th>x7</th>    <td>    0.2485</td> <td>    0.127</td> <td>    1.961</td> <td> 0.050</td> <td>    0.000</td> <td>    0.497</td>\n",
       "</tr>\n",
       "</table>"
      ],
      "text/plain": [
       "<class 'statsmodels.iolib.summary.Summary'>\n",
       "\"\"\"\n",
       "                           Logit Regression Results                           \n",
       "==============================================================================\n",
       "Dep. Variable:                      y   No. Observations:                  576\n",
       "Model:                          Logit   Df Residuals:                      568\n",
       "Method:                           MLE   Df Model:                            7\n",
       "Date:                Sat, 01 Jun 2024   Pseudo R-squ.:                  0.2593\n",
       "Time:                        11:21:44   Log-Likelihood:                -278.20\n",
       "converged:                       True   LL-Null:                       -375.58\n",
       "Covariance Type:            nonrobust   LLR p-value:                 1.472e-38\n",
       "==============================================================================\n",
       "                 coef    std err          z      P>|z|      [0.025      0.975]\n",
       "------------------------------------------------------------------------------\n",
       "const         -0.8163      0.110     -7.423      0.000      -1.032      -0.601\n",
       "x1             0.3015      0.121      2.491      0.013       0.064       0.539\n",
       "x2             1.0360      0.132      7.823      0.000       0.776       1.296\n",
       "x3            -0.1971      0.115     -1.714      0.087      -0.422       0.028\n",
       "x4            -0.0837      0.108     -0.775      0.438      -0.295       0.128\n",
       "x5             0.7321      0.130      5.621      0.000       0.477       0.987\n",
       "x6             0.3030      0.114      2.668      0.008       0.080       0.526\n",
       "x7             0.2485      0.127      1.961      0.050       0.000       0.497\n",
       "==============================================================================\n",
       "\"\"\""
      ]
     },
     "execution_count": 38,
     "metadata": {},
     "output_type": "execute_result"
    }
   ],
   "source": [
    "x_opt =  x_train_s[:,[0,1,2,3,5,6,7,8]]\n",
    "classifier_b = smf.Logit(y_train_s, x_opt).fit()\n",
    "classifier_b.summary()"
   ]
  },
  {
   "cell_type": "code",
   "execution_count": null,
   "id": "1cb9dcc4",
   "metadata": {},
   "outputs": [],
   "source": []
  },
  {
   "cell_type": "code",
   "execution_count": 39,
   "id": "b3eaf90c",
   "metadata": {},
   "outputs": [
    {
     "data": {
      "text/plain": [
       "570.4"
      ]
     },
     "execution_count": 39,
     "metadata": {},
     "output_type": "execute_result"
    }
   ],
   "source": [
    "aic_2 = -2*(-278.20) + 2*(7)\n",
    "aic_2"
   ]
  },
  {
   "cell_type": "code",
   "execution_count": 40,
   "id": "5cc211da",
   "metadata": {},
   "outputs": [],
   "source": [
    "pred_3 = classifier_b.predict(x_test_s[:,[0,1,2,3,5,6,7,8]])\n",
    "#\n",
    "pred_3 = (pred_3>0.5).astype(int)"
   ]
  },
  {
   "cell_type": "code",
   "execution_count": 41,
   "id": "d84ed1e0",
   "metadata": {},
   "outputs": [
    {
     "data": {
      "text/plain": [
       "array([[117,  13],\n",
       "       [ 24,  38]], dtype=int64)"
      ]
     },
     "execution_count": 41,
     "metadata": {},
     "output_type": "execute_result"
    }
   ],
   "source": [
    "cm3 = confusion_matrix(y_test_s,pred_3)\n",
    "cm3"
   ]
  },
  {
   "cell_type": "code",
   "execution_count": 42,
   "id": "f1a023ab",
   "metadata": {},
   "outputs": [],
   "source": [
    "#Misclassification - 37"
   ]
  },
  {
   "cell_type": "code",
   "execution_count": 43,
   "id": "c7ee64df",
   "metadata": {},
   "outputs": [
    {
     "name": "stdout",
     "output_type": "stream",
     "text": [
      "Optimization terminated successfully.\n",
      "         Current function value: 0.483499\n",
      "         Iterations 6\n"
     ]
    },
    {
     "data": {
      "text/html": [
       "<table class=\"simpletable\">\n",
       "<caption>Logit Regression Results</caption>\n",
       "<tr>\n",
       "  <th>Dep. Variable:</th>           <td>y</td>        <th>  No. Observations:  </th>  <td>   576</td>  \n",
       "</tr>\n",
       "<tr>\n",
       "  <th>Model:</th>                 <td>Logit</td>      <th>  Df Residuals:      </th>  <td>   569</td>  \n",
       "</tr>\n",
       "<tr>\n",
       "  <th>Method:</th>                 <td>MLE</td>       <th>  Df Model:          </th>  <td>     6</td>  \n",
       "</tr>\n",
       "<tr>\n",
       "  <th>Date:</th>            <td>Sat, 01 Jun 2024</td> <th>  Pseudo R-squ.:     </th>  <td>0.2585</td>  \n",
       "</tr>\n",
       "<tr>\n",
       "  <th>Time:</th>                <td>11:21:45</td>     <th>  Log-Likelihood:    </th> <td> -278.50</td> \n",
       "</tr>\n",
       "<tr>\n",
       "  <th>converged:</th>             <td>True</td>       <th>  LL-Null:           </th> <td> -375.58</td> \n",
       "</tr>\n",
       "<tr>\n",
       "  <th>Covariance Type:</th>     <td>nonrobust</td>    <th>  LLR p-value:       </th> <td>3.304e-39</td>\n",
       "</tr>\n",
       "</table>\n",
       "<table class=\"simpletable\">\n",
       "<tr>\n",
       "    <td></td>       <th>coef</th>     <th>std err</th>      <th>z</th>      <th>P>|z|</th>  <th>[0.025</th>    <th>0.975]</th>  \n",
       "</tr>\n",
       "<tr>\n",
       "  <th>const</th> <td>   -0.8174</td> <td>    0.110</td> <td>   -7.434</td> <td> 0.000</td> <td>   -1.033</td> <td>   -0.602</td>\n",
       "</tr>\n",
       "<tr>\n",
       "  <th>x1</th>    <td>    0.3033</td> <td>    0.121</td> <td>    2.510</td> <td> 0.012</td> <td>    0.067</td> <td>    0.540</td>\n",
       "</tr>\n",
       "<tr>\n",
       "  <th>x2</th>    <td>    1.0048</td> <td>    0.125</td> <td>    8.011</td> <td> 0.000</td> <td>    0.759</td> <td>    1.251</td>\n",
       "</tr>\n",
       "<tr>\n",
       "  <th>x3</th>    <td>   -0.1987</td> <td>    0.115</td> <td>   -1.736</td> <td> 0.083</td> <td>   -0.423</td> <td>    0.026</td>\n",
       "</tr>\n",
       "<tr>\n",
       "  <th>x4</th>    <td>    0.7232</td> <td>    0.129</td> <td>    5.594</td> <td> 0.000</td> <td>    0.470</td> <td>    0.977</td>\n",
       "</tr>\n",
       "<tr>\n",
       "  <th>x5</th>    <td>    0.2926</td> <td>    0.113</td> <td>    2.593</td> <td> 0.010</td> <td>    0.071</td> <td>    0.514</td>\n",
       "</tr>\n",
       "<tr>\n",
       "  <th>x6</th>    <td>    0.2625</td> <td>    0.126</td> <td>    2.091</td> <td> 0.037</td> <td>    0.016</td> <td>    0.509</td>\n",
       "</tr>\n",
       "</table>"
      ],
      "text/plain": [
       "<class 'statsmodels.iolib.summary.Summary'>\n",
       "\"\"\"\n",
       "                           Logit Regression Results                           \n",
       "==============================================================================\n",
       "Dep. Variable:                      y   No. Observations:                  576\n",
       "Model:                          Logit   Df Residuals:                      569\n",
       "Method:                           MLE   Df Model:                            6\n",
       "Date:                Sat, 01 Jun 2024   Pseudo R-squ.:                  0.2585\n",
       "Time:                        11:21:45   Log-Likelihood:                -278.50\n",
       "converged:                       True   LL-Null:                       -375.58\n",
       "Covariance Type:            nonrobust   LLR p-value:                 3.304e-39\n",
       "==============================================================================\n",
       "                 coef    std err          z      P>|z|      [0.025      0.975]\n",
       "------------------------------------------------------------------------------\n",
       "const         -0.8174      0.110     -7.434      0.000      -1.033      -0.602\n",
       "x1             0.3033      0.121      2.510      0.012       0.067       0.540\n",
       "x2             1.0048      0.125      8.011      0.000       0.759       1.251\n",
       "x3            -0.1987      0.115     -1.736      0.083      -0.423       0.026\n",
       "x4             0.7232      0.129      5.594      0.000       0.470       0.977\n",
       "x5             0.2926      0.113      2.593      0.010       0.071       0.514\n",
       "x6             0.2625      0.126      2.091      0.037       0.016       0.509\n",
       "==============================================================================\n",
       "\"\"\""
      ]
     },
     "execution_count": 43,
     "metadata": {},
     "output_type": "execute_result"
    }
   ],
   "source": [
    "#step3\n",
    "x_opt =  x_train_s[:,[0,1,2,3,6,7,8]]\n",
    "classifier_b = smf.Logit(y_train_s, x_opt).fit()\n",
    "classifier_b.summary()"
   ]
  },
  {
   "cell_type": "code",
   "execution_count": 44,
   "id": "dfcece5c",
   "metadata": {},
   "outputs": [
    {
     "data": {
      "text/plain": [
       "(568.0, 570.4, 571.86)"
      ]
     },
     "execution_count": 44,
     "metadata": {},
     "output_type": "execute_result"
    }
   ],
   "source": [
    "aic_3 =  -2*(-278.0) + 2*(6)\n",
    "aic_3 , aic_2 , aic_1\n"
   ]
  },
  {
   "cell_type": "code",
   "execution_count": 45,
   "id": "8fa2a420",
   "metadata": {},
   "outputs": [],
   "source": [
    "pred_4 = classifier_b.predict(x_test_s[:,[0,1,2,3,6,7,8]])\n",
    "#\n",
    "pred_4 = (pred_4>0.5).astype(int)"
   ]
  },
  {
   "cell_type": "code",
   "execution_count": 46,
   "id": "4b6099e5",
   "metadata": {},
   "outputs": [
    {
     "data": {
      "text/plain": [
       "array([[117,  13],\n",
       "       [ 25,  37]], dtype=int64)"
      ]
     },
     "execution_count": 46,
     "metadata": {},
     "output_type": "execute_result"
    }
   ],
   "source": [
    "cm4 = confusion_matrix(y_test_s,pred_4)\n",
    "cm4"
   ]
  },
  {
   "cell_type": "code",
   "execution_count": 48,
   "id": "e26e4bd4",
   "metadata": {},
   "outputs": [],
   "source": [
    "#missclassification is more in step 3 compared to step 2.Make model in step 2 as final model..dont remove insulin\n",
    "#final_model"
   ]
  },
  {
   "cell_type": "code",
   "execution_count": 49,
   "id": "453adfa1",
   "metadata": {},
   "outputs": [
    {
     "name": "stdout",
     "output_type": "stream",
     "text": [
      "Optimization terminated successfully.\n",
      "         Current function value: 0.482980\n",
      "         Iterations 6\n"
     ]
    },
    {
     "data": {
      "text/html": [
       "<table class=\"simpletable\">\n",
       "<caption>Logit Regression Results</caption>\n",
       "<tr>\n",
       "  <th>Dep. Variable:</th>           <td>y</td>        <th>  No. Observations:  </th>  <td>   576</td>  \n",
       "</tr>\n",
       "<tr>\n",
       "  <th>Model:</th>                 <td>Logit</td>      <th>  Df Residuals:      </th>  <td>   568</td>  \n",
       "</tr>\n",
       "<tr>\n",
       "  <th>Method:</th>                 <td>MLE</td>       <th>  Df Model:          </th>  <td>     7</td>  \n",
       "</tr>\n",
       "<tr>\n",
       "  <th>Date:</th>            <td>Sat, 01 Jun 2024</td> <th>  Pseudo R-squ.:     </th>  <td>0.2593</td>  \n",
       "</tr>\n",
       "<tr>\n",
       "  <th>Time:</th>                <td>11:22:03</td>     <th>  Log-Likelihood:    </th> <td> -278.20</td> \n",
       "</tr>\n",
       "<tr>\n",
       "  <th>converged:</th>             <td>True</td>       <th>  LL-Null:           </th> <td> -375.58</td> \n",
       "</tr>\n",
       "<tr>\n",
       "  <th>Covariance Type:</th>     <td>nonrobust</td>    <th>  LLR p-value:       </th> <td>1.472e-38</td>\n",
       "</tr>\n",
       "</table>\n",
       "<table class=\"simpletable\">\n",
       "<tr>\n",
       "    <td></td>       <th>coef</th>     <th>std err</th>      <th>z</th>      <th>P>|z|</th>  <th>[0.025</th>    <th>0.975]</th>  \n",
       "</tr>\n",
       "<tr>\n",
       "  <th>const</th> <td>   -0.8163</td> <td>    0.110</td> <td>   -7.423</td> <td> 0.000</td> <td>   -1.032</td> <td>   -0.601</td>\n",
       "</tr>\n",
       "<tr>\n",
       "  <th>x1</th>    <td>    0.3015</td> <td>    0.121</td> <td>    2.491</td> <td> 0.013</td> <td>    0.064</td> <td>    0.539</td>\n",
       "</tr>\n",
       "<tr>\n",
       "  <th>x2</th>    <td>    1.0360</td> <td>    0.132</td> <td>    7.823</td> <td> 0.000</td> <td>    0.776</td> <td>    1.296</td>\n",
       "</tr>\n",
       "<tr>\n",
       "  <th>x3</th>    <td>   -0.1971</td> <td>    0.115</td> <td>   -1.714</td> <td> 0.087</td> <td>   -0.422</td> <td>    0.028</td>\n",
       "</tr>\n",
       "<tr>\n",
       "  <th>x4</th>    <td>   -0.0837</td> <td>    0.108</td> <td>   -0.775</td> <td> 0.438</td> <td>   -0.295</td> <td>    0.128</td>\n",
       "</tr>\n",
       "<tr>\n",
       "  <th>x5</th>    <td>    0.7321</td> <td>    0.130</td> <td>    5.621</td> <td> 0.000</td> <td>    0.477</td> <td>    0.987</td>\n",
       "</tr>\n",
       "<tr>\n",
       "  <th>x6</th>    <td>    0.3030</td> <td>    0.114</td> <td>    2.668</td> <td> 0.008</td> <td>    0.080</td> <td>    0.526</td>\n",
       "</tr>\n",
       "<tr>\n",
       "  <th>x7</th>    <td>    0.2485</td> <td>    0.127</td> <td>    1.961</td> <td> 0.050</td> <td>    0.000</td> <td>    0.497</td>\n",
       "</tr>\n",
       "</table>"
      ],
      "text/plain": [
       "<class 'statsmodels.iolib.summary.Summary'>\n",
       "\"\"\"\n",
       "                           Logit Regression Results                           \n",
       "==============================================================================\n",
       "Dep. Variable:                      y   No. Observations:                  576\n",
       "Model:                          Logit   Df Residuals:                      568\n",
       "Method:                           MLE   Df Model:                            7\n",
       "Date:                Sat, 01 Jun 2024   Pseudo R-squ.:                  0.2593\n",
       "Time:                        11:22:03   Log-Likelihood:                -278.20\n",
       "converged:                       True   LL-Null:                       -375.58\n",
       "Covariance Type:            nonrobust   LLR p-value:                 1.472e-38\n",
       "==============================================================================\n",
       "                 coef    std err          z      P>|z|      [0.025      0.975]\n",
       "------------------------------------------------------------------------------\n",
       "const         -0.8163      0.110     -7.423      0.000      -1.032      -0.601\n",
       "x1             0.3015      0.121      2.491      0.013       0.064       0.539\n",
       "x2             1.0360      0.132      7.823      0.000       0.776       1.296\n",
       "x3            -0.1971      0.115     -1.714      0.087      -0.422       0.028\n",
       "x4            -0.0837      0.108     -0.775      0.438      -0.295       0.128\n",
       "x5             0.7321      0.130      5.621      0.000       0.477       0.987\n",
       "x6             0.3030      0.114      2.668      0.008       0.080       0.526\n",
       "x7             0.2485      0.127      1.961      0.050       0.000       0.497\n",
       "==============================================================================\n",
       "\"\"\""
      ]
     },
     "execution_count": 49,
     "metadata": {},
     "output_type": "execute_result"
    }
   ],
   "source": [
    "x_opt =  x_train_s[:,[0,1,2,3,5,6,7,8]]\n",
    "classifier_b = smf.Logit(y_train_s, x_opt).fit()\n",
    "classifier_b.summary()"
   ]
  },
  {
   "cell_type": "code",
   "execution_count": 50,
   "id": "a099a70d",
   "metadata": {},
   "outputs": [],
   "source": [
    "pred_3 = classifier_b.predict(x_test_s[:,[0,1,2,3,5,6,7,8]])\n",
    "#\n",
    "pred_3 = (pred_3>0.5).astype(int)"
   ]
  },
  {
   "cell_type": "code",
   "execution_count": 51,
   "id": "8843e7d3",
   "metadata": {},
   "outputs": [
    {
     "data": {
      "text/plain": [
       "array([[117,  13],\n",
       "       [ 24,  38]], dtype=int64)"
      ]
     },
     "execution_count": 51,
     "metadata": {},
     "output_type": "execute_result"
    }
   ],
   "source": [
    "cm3 = confusion_matrix(y_test_s,pred_3)\n",
    "cm3"
   ]
  },
  {
   "cell_type": "code",
   "execution_count": 52,
   "id": "abe9e4a8",
   "metadata": {},
   "outputs": [
    {
     "data": {
      "text/html": [
       "<div>\n",
       "<style scoped>\n",
       "    .dataframe tbody tr th:only-of-type {\n",
       "        vertical-align: middle;\n",
       "    }\n",
       "\n",
       "    .dataframe tbody tr th {\n",
       "        vertical-align: top;\n",
       "    }\n",
       "\n",
       "    .dataframe thead th {\n",
       "        text-align: right;\n",
       "    }\n",
       "</style>\n",
       "<table border=\"1\" class=\"dataframe\">\n",
       "  <thead>\n",
       "    <tr style=\"text-align: right;\">\n",
       "      <th>Predicted</th>\n",
       "      <th>0</th>\n",
       "      <th>1</th>\n",
       "      <th>All</th>\n",
       "    </tr>\n",
       "    <tr>\n",
       "      <th>True</th>\n",
       "      <th></th>\n",
       "      <th></th>\n",
       "      <th></th>\n",
       "    </tr>\n",
       "  </thead>\n",
       "  <tbody>\n",
       "    <tr>\n",
       "      <th>0</th>\n",
       "      <td>117</td>\n",
       "      <td>13</td>\n",
       "      <td>130</td>\n",
       "    </tr>\n",
       "    <tr>\n",
       "      <th>1</th>\n",
       "      <td>24</td>\n",
       "      <td>38</td>\n",
       "      <td>62</td>\n",
       "    </tr>\n",
       "    <tr>\n",
       "      <th>All</th>\n",
       "      <td>141</td>\n",
       "      <td>51</td>\n",
       "      <td>192</td>\n",
       "    </tr>\n",
       "  </tbody>\n",
       "</table>\n",
       "</div>"
      ],
      "text/plain": [
       "Predicted    0   1  All\n",
       "True                   \n",
       "0          117  13  130\n",
       "1           24  38   62\n",
       "All        141  51  192"
      ]
     },
     "execution_count": 52,
     "metadata": {},
     "output_type": "execute_result"
    }
   ],
   "source": [
    "pd.crosstab(y_test_s,pred_3,rownames= ['True'],colnames = ['Predicted'],margins=True)"
   ]
  },
  {
   "cell_type": "code",
   "execution_count": null,
   "id": "c9156807",
   "metadata": {},
   "outputs": [],
   "source": [
    "#[Tp Fn\n",
    "#FP  FN]"
   ]
  },
  {
   "cell_type": "code",
   "execution_count": 54,
   "id": "cf71abe1",
   "metadata": {},
   "outputs": [
    {
     "data": {
      "text/plain": [
       "array([1, 0, 0, 1, 0, 0, 1, 1, 0, 0, 1, 1, 0, 0, 0, 0, 1, 0, 0, 0, 1, 0,\n",
       "       0, 0, 0, 0, 0, 1, 0, 0, 0, 0, 0, 0, 0, 1, 0, 0, 0, 1, 0, 0, 0, 1,\n",
       "       1, 0, 0, 0, 0, 0, 0, 0, 1, 0, 0, 0, 0, 1, 0, 0, 1, 1, 0, 1, 1, 1,\n",
       "       1, 0, 0, 0, 0, 0, 0, 1, 1, 0, 0, 1, 0, 0, 0, 0, 0, 0, 0, 0, 0, 0,\n",
       "       1, 0, 0, 0, 0, 0, 1, 0, 0, 1, 1, 0, 0, 0, 0, 0, 1, 0, 0, 0, 0, 1,\n",
       "       0, 0, 1, 0, 1, 1, 0, 1, 0, 1, 0, 0, 0, 0, 0, 0, 0, 0, 0, 0, 0, 0,\n",
       "       0, 1, 0, 0, 0, 0, 1, 0, 0, 1, 0, 0, 0, 0, 0, 0, 0, 0, 0, 1, 0, 0,\n",
       "       1, 0, 1, 0, 1, 1, 1, 1, 0, 0, 1, 0, 0, 0, 0, 0, 0, 0, 0, 0, 1, 0,\n",
       "       0, 0, 0, 0, 0, 1, 0, 1, 1, 0, 1, 0, 0, 0, 0, 0])"
      ]
     },
     "execution_count": 54,
     "metadata": {},
     "output_type": "execute_result"
    }
   ],
   "source": []
  },
  {
   "cell_type": "code",
   "execution_count": null,
   "id": "f6f76445",
   "metadata": {},
   "outputs": [],
   "source": [
    "#ROC CURVE to cange threshold"
   ]
  },
  {
   "cell_type": "code",
   "execution_count": 55,
   "id": "002e7e7c",
   "metadata": {},
   "outputs": [],
   "source": [
    "from sklearn.metrics import confusion_matrix , roc_curve ,roc_auc_score"
   ]
  },
  {
   "cell_type": "code",
   "execution_count": 59,
   "id": "4300513d",
   "metadata": {},
   "outputs": [],
   "source": [
    "pred_r = classifier_b.predict(x_train_s[:,[0,1,2,3,5,6,7,8]])#roc is done on training set"
   ]
  },
  {
   "cell_type": "code",
   "execution_count": 60,
   "id": "96334c81",
   "metadata": {},
   "outputs": [],
   "source": [
    "fpr , tpr , threshold = roc_curve(y_true = y_train_s ,y_score = pred_r , drop_intermediate = False)"
   ]
  },
  {
   "cell_type": "code",
   "execution_count": 64,
   "id": "3885ebba",
   "metadata": {},
   "outputs": [],
   "source": [
    "import matplotlib.collections"
   ]
  },
  {
   "cell_type": "code",
   "execution_count": 66,
   "id": "13058358",
   "metadata": {},
   "outputs": [
    {
     "data": {
      "image/png": "[encoded data removed]",
      "text/plain": [
       "<Figure size 432x288 with 1 Axes>"
      ]
     },
     "metadata": {
      "needs_background": "light"
     },
     "output_type": "display_data"
    }
   ],
   "source": [
    "plt.figure()\n",
    "#add roc\n",
    "plt.plot(fpr , tpr ,lw =2 ,color = 'red')\n",
    "\n",
    "#random tpr and fpr limits\n",
    "plt.plot([0,1],[0,1],lw=2 , color = 'blue')\n",
    "plt.xlabel('FPR')\n",
    "plt.ylabel('TPR')\n",
    "plt.title(\"Roc Curve\")\n",
    "plt.show()"
   ]
  },
  {
   "cell_type": "code",
   "execution_count": 67,
   "id": "27b848cd",
   "metadata": {},
   "outputs": [
    {
     "data": {
      "text/plain": [
       "0.8312647599055366"
      ]
     },
     "execution_count": 67,
     "metadata": {},
     "output_type": "execute_result"
    }
   ],
   "source": [
    "#Area under the curve\n",
    "roc_auc_score(y_true = y_train_s ,y_score = pred_r)"
   ]
  },
  {
   "cell_type": "code",
   "execution_count": null,
   "id": "9fa76a8f",
   "metadata": {},
   "outputs": [],
   "source": []
  }
 ],
 "metadata": {
  "kernelspec": {
   "display_name": "Python 3 (ipykernel)",
   "language": "python",
   "name": "python3"
  },
  "language_info": {
   "codemirror_mode": {
    "name": "ipython",
    "version": 3
   },
   "file_extension": ".py",
   "mimetype": "text/x-python",
   "name": "python",
   "nbconvert_exporter": "python",
   "pygments_lexer": "ipython3",
   "version": "3.9.12"
  }
 },
 "nbformat": 4,
 "nbformat_minor": 5
}
