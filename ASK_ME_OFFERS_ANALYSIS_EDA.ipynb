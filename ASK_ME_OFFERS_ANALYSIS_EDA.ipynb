{
 "cells": [
  {
   "cell_type": "code",
   "execution_count": 1,
   "id": "21ebcd95",
   "metadata": {},
   "outputs": [],
   "source": [
    "# import python libraries\n",
    "\n",
    "import numpy as np \n",
    "import pandas as pd \n",
    "import matplotlib.pyplot as plt # visualizing data\n",
    "%matplotlib inline \n",
    "import seaborn as sns"
   ]
  },
  {
   "cell_type": "code",
   "execution_count": 2,
   "id": "b20208aa",
   "metadata": {},
   "outputs": [],
   "source": [
    "df = pd.read_csv(r'C:\\Users\\nayan\\OneDrive\\Desktop\\ASKME\\ask_me.csv')"
   ]
  },
  {
   "cell_type": "markdown",
   "id": "343a8103",
   "metadata": {},
   "source": [
    "# DATA PREPARATION AND DATA CLEANING"
   ]
  },
  {
   "cell_type": "code",
   "execution_count": 3,
   "id": "3a76436f",
   "metadata": {},
   "outputs": [
    {
     "data": {
      "text/html": [
       "<div>\n",
       "<style scoped>\n",
       "    .dataframe tbody tr th:only-of-type {\n",
       "        vertical-align: middle;\n",
       "    }\n",
       "\n",
       "    .dataframe tbody tr th {\n",
       "        vertical-align: top;\n",
       "    }\n",
       "\n",
       "    .dataframe thead th {\n",
       "        text-align: right;\n",
       "    }\n",
       "</style>\n",
       "<table border=\"1\" class=\"dataframe\">\n",
       "  <thead>\n",
       "    <tr style=\"text-align: right;\">\n",
       "      <th></th>\n",
       "      <th>ID</th>\n",
       "      <th>Brand_Name</th>\n",
       "      <th>Detail</th>\n",
       "      <th>Price</th>\n",
       "      <th>Discount_by_company</th>\n",
       "      <th>Segment</th>\n",
       "      <th>Gender</th>\n",
       "      <th>Total_Buying Frequency</th>\n",
       "    </tr>\n",
       "  </thead>\n",
       "  <tbody>\n",
       "    <tr>\n",
       "      <th>0</th>\n",
       "      <td>1</td>\n",
       "      <td>BEARDO</td>\n",
       "      <td>Perfume Combo</td>\n",
       "      <td>999.0</td>\n",
       "      <td>72.00%</td>\n",
       "      <td>Fragnance</td>\n",
       "      <td>M</td>\n",
       "      <td>100000</td>\n",
       "    </tr>\n",
       "    <tr>\n",
       "      <th>1</th>\n",
       "      <td>2</td>\n",
       "      <td>BEARDO</td>\n",
       "      <td>Beard growth</td>\n",
       "      <td>599.0</td>\n",
       "      <td>61.00%</td>\n",
       "      <td>Beard</td>\n",
       "      <td>M</td>\n",
       "      <td>100000</td>\n",
       "    </tr>\n",
       "    <tr>\n",
       "      <th>2</th>\n",
       "      <td>3</td>\n",
       "      <td>BEARDO</td>\n",
       "      <td>Bodywash</td>\n",
       "      <td>699.0</td>\n",
       "      <td>23.00%</td>\n",
       "      <td>Skin</td>\n",
       "      <td>M</td>\n",
       "      <td>150000</td>\n",
       "    </tr>\n",
       "    <tr>\n",
       "      <th>3</th>\n",
       "      <td>4</td>\n",
       "      <td>BEARDO</td>\n",
       "      <td>Summer Pack</td>\n",
       "      <td>999.0</td>\n",
       "      <td>61.00%</td>\n",
       "      <td>All</td>\n",
       "      <td>M</td>\n",
       "      <td>150000</td>\n",
       "    </tr>\n",
       "    <tr>\n",
       "      <th>4</th>\n",
       "      <td>5</td>\n",
       "      <td>BEARDO</td>\n",
       "      <td>PerfumeWhisky Smoke</td>\n",
       "      <td>599.0</td>\n",
       "      <td>51.00%</td>\n",
       "      <td>Fragnance</td>\n",
       "      <td>M</td>\n",
       "      <td>75000</td>\n",
       "    </tr>\n",
       "  </tbody>\n",
       "</table>\n",
       "</div>"
      ],
      "text/plain": [
       "   ID Brand_Name               Detail  Price  Discount_by_company   Segment   \\\n",
       "0   1     BEARDO        Perfume Combo   999.0              72.00%  Fragnance   \n",
       "1   2     BEARDO         Beard growth   599.0              61.00%      Beard   \n",
       "2   3     BEARDO             Bodywash   699.0              23.00%       Skin   \n",
       "3   4     BEARDO          Summer Pack   999.0              61.00%        All   \n",
       "4   5     BEARDO  PerfumeWhisky Smoke   599.0              51.00%  Fragnance   \n",
       "\n",
       "  Gender  Total_Buying Frequency  \n",
       "0      M                  100000  \n",
       "1      M                  100000  \n",
       "2      M                  150000  \n",
       "3      M                  150000  \n",
       "4      M                   75000  "
      ]
     },
     "execution_count": 3,
     "metadata": {},
     "output_type": "execute_result"
    }
   ],
   "source": [
    "df.head()"
   ]
  },
  {
   "cell_type": "code",
   "execution_count": 4,
   "id": "76926f9f",
   "metadata": {},
   "outputs": [
    {
     "name": "stdout",
     "output_type": "stream",
     "text": [
      "<class 'pandas.core.frame.DataFrame'>\n",
      "RangeIndex: 107 entries, 0 to 106\n",
      "Data columns (total 8 columns):\n",
      " #   Column                  Non-Null Count  Dtype  \n",
      "---  ------                  --------------  -----  \n",
      " 0   ID                      107 non-null    int64  \n",
      " 1   Brand_Name              107 non-null    object \n",
      " 2   Detail                  107 non-null    object \n",
      " 3   Price                   104 non-null    float64\n",
      " 4   Discount_by_company     103 non-null    object \n",
      " 5   Segment                 107 non-null    object \n",
      " 6   Gender                  107 non-null    object \n",
      " 7   Total_Buying Frequency  107 non-null    int64  \n",
      "dtypes: float64(1), int64(2), object(5)\n",
      "memory usage: 6.8+ KB\n"
     ]
    }
   ],
   "source": [
    "df.info()"
   ]
  },
  {
   "cell_type": "markdown",
   "id": "581a9cde",
   "metadata": {},
   "source": [
    "From the above result we can observe that Price and Discount has null or missing values"
   ]
  },
  {
   "cell_type": "code",
   "execution_count": 5,
   "id": "a3ad817e",
   "metadata": {},
   "outputs": [
    {
     "data": {
      "text/html": [
       "<div>\n",
       "<style scoped>\n",
       "    .dataframe tbody tr th:only-of-type {\n",
       "        vertical-align: middle;\n",
       "    }\n",
       "\n",
       "    .dataframe tbody tr th {\n",
       "        vertical-align: top;\n",
       "    }\n",
       "\n",
       "    .dataframe thead th {\n",
       "        text-align: right;\n",
       "    }\n",
       "</style>\n",
       "<table border=\"1\" class=\"dataframe\">\n",
       "  <thead>\n",
       "    <tr style=\"text-align: right;\">\n",
       "      <th></th>\n",
       "      <th>ID</th>\n",
       "      <th>Price</th>\n",
       "      <th>Total_Buying Frequency</th>\n",
       "    </tr>\n",
       "  </thead>\n",
       "  <tbody>\n",
       "    <tr>\n",
       "      <th>count</th>\n",
       "      <td>107.000000</td>\n",
       "      <td>104.000000</td>\n",
       "      <td>107.000000</td>\n",
       "    </tr>\n",
       "    <tr>\n",
       "      <th>mean</th>\n",
       "      <td>54.000000</td>\n",
       "      <td>958.230769</td>\n",
       "      <td>134238.785047</td>\n",
       "    </tr>\n",
       "    <tr>\n",
       "      <th>std</th>\n",
       "      <td>31.032241</td>\n",
       "      <td>706.212395</td>\n",
       "      <td>124361.759333</td>\n",
       "    </tr>\n",
       "    <tr>\n",
       "      <th>min</th>\n",
       "      <td>1.000000</td>\n",
       "      <td>149.000000</td>\n",
       "      <td>550.000000</td>\n",
       "    </tr>\n",
       "    <tr>\n",
       "      <th>25%</th>\n",
       "      <td>27.500000</td>\n",
       "      <td>499.000000</td>\n",
       "      <td>50000.000000</td>\n",
       "    </tr>\n",
       "    <tr>\n",
       "      <th>50%</th>\n",
       "      <td>54.000000</td>\n",
       "      <td>799.000000</td>\n",
       "      <td>100000.000000</td>\n",
       "    </tr>\n",
       "    <tr>\n",
       "      <th>75%</th>\n",
       "      <td>80.500000</td>\n",
       "      <td>1099.250000</td>\n",
       "      <td>200000.000000</td>\n",
       "    </tr>\n",
       "    <tr>\n",
       "      <th>max</th>\n",
       "      <td>107.000000</td>\n",
       "      <td>4599.000000</td>\n",
       "      <td>500000.000000</td>\n",
       "    </tr>\n",
       "  </tbody>\n",
       "</table>\n",
       "</div>"
      ],
      "text/plain": [
       "               ID       Price   Total_Buying Frequency\n",
       "count  107.000000   104.000000              107.000000\n",
       "mean    54.000000   958.230769           134238.785047\n",
       "std     31.032241   706.212395           124361.759333\n",
       "min      1.000000   149.000000              550.000000\n",
       "25%     27.500000   499.000000            50000.000000\n",
       "50%     54.000000   799.000000           100000.000000\n",
       "75%     80.500000  1099.250000           200000.000000\n",
       "max    107.000000  4599.000000           500000.000000"
      ]
     },
     "execution_count": 5,
     "metadata": {},
     "output_type": "execute_result"
    }
   ],
   "source": [
    "df.describe()"
   ]
  },
  {
   "cell_type": "code",
   "execution_count": 6,
   "id": "f76f26bc",
   "metadata": {},
   "outputs": [
    {
     "data": {
      "text/plain": [
       "(107, 8)"
      ]
     },
     "execution_count": 6,
     "metadata": {},
     "output_type": "execute_result"
    }
   ],
   "source": [
    "df.shape"
   ]
  },
  {
   "cell_type": "code",
   "execution_count": 7,
   "id": "9b359b03",
   "metadata": {},
   "outputs": [],
   "source": [
    "df['Discount_by_company'] = pd.to_numeric(df['Discount_by_company'].str.rstrip('%'))"
   ]
  },
  {
   "cell_type": "markdown",
   "id": "dd2bbc69",
   "metadata": {},
   "source": [
    "Converted discount to percentage data type to  make it easier for calculations"
   ]
  },
  {
   "cell_type": "code",
   "execution_count": 8,
   "id": "8a348a22",
   "metadata": {},
   "outputs": [
    {
     "name": "stdout",
     "output_type": "stream",
     "text": [
      "<class 'pandas.core.frame.DataFrame'>\n",
      "RangeIndex: 107 entries, 0 to 106\n",
      "Data columns (total 8 columns):\n",
      " #   Column                  Non-Null Count  Dtype  \n",
      "---  ------                  --------------  -----  \n",
      " 0   ID                      107 non-null    int64  \n",
      " 1   Brand_Name              107 non-null    object \n",
      " 2   Detail                  107 non-null    object \n",
      " 3   Price                   104 non-null    float64\n",
      " 4   Discount_by_company     103 non-null    float64\n",
      " 5   Segment                 107 non-null    object \n",
      " 6   Gender                  107 non-null    object \n",
      " 7   Total_Buying Frequency  107 non-null    int64  \n",
      "dtypes: float64(2), int64(2), object(4)\n",
      "memory usage: 6.8+ KB\n"
     ]
    }
   ],
   "source": [
    "df.info()"
   ]
  },
  {
   "cell_type": "code",
   "execution_count": 9,
   "id": "15c3899f",
   "metadata": {},
   "outputs": [
    {
     "data": {
      "text/plain": [
       "ID                        0\n",
       "Brand_Name                0\n",
       "Detail                    0\n",
       "Price                     3\n",
       "Discount_by_company       4\n",
       "Segment                   0\n",
       "Gender                    0\n",
       "Total_Buying Frequency    0\n",
       "dtype: int64"
      ]
     },
     "execution_count": 9,
     "metadata": {},
     "output_type": "execute_result"
    }
   ],
   "source": [
    "pd.isnull(df).sum()"
   ]
  },
  {
   "cell_type": "markdown",
   "id": "15ae5dd5",
   "metadata": {},
   "source": [
    "3 null values and 4 null values in Price and Discount Respectively"
   ]
  },
  {
   "cell_type": "code",
   "execution_count": 10,
   "id": "39906c38",
   "metadata": {
    "scrolled": true
   },
   "outputs": [
    {
     "data": {
      "text/html": [
       "<div>\n",
       "<style scoped>\n",
       "    .dataframe tbody tr th:only-of-type {\n",
       "        vertical-align: middle;\n",
       "    }\n",
       "\n",
       "    .dataframe tbody tr th {\n",
       "        vertical-align: top;\n",
       "    }\n",
       "\n",
       "    .dataframe thead th {\n",
       "        text-align: right;\n",
       "    }\n",
       "</style>\n",
       "<table border=\"1\" class=\"dataframe\">\n",
       "  <thead>\n",
       "    <tr style=\"text-align: right;\">\n",
       "      <th></th>\n",
       "      <th>ID</th>\n",
       "      <th>Brand_Name</th>\n",
       "      <th>Detail</th>\n",
       "      <th>Price</th>\n",
       "      <th>Discount_by_company</th>\n",
       "      <th>Segment</th>\n",
       "      <th>Gender</th>\n",
       "      <th>Total_Buying Frequency</th>\n",
       "    </tr>\n",
       "  </thead>\n",
       "  <tbody>\n",
       "    <tr>\n",
       "      <th>84</th>\n",
       "      <td>85</td>\n",
       "      <td>KAPIVA</td>\n",
       "      <td>Thyro Booster Combo</td>\n",
       "      <td>NaN</td>\n",
       "      <td>NaN</td>\n",
       "      <td>Wellness</td>\n",
       "      <td>F</td>\n",
       "      <td>100000</td>\n",
       "    </tr>\n",
       "    <tr>\n",
       "      <th>85</th>\n",
       "      <td>86</td>\n",
       "      <td>KAPIVA</td>\n",
       "      <td>Thyro Advanced Combo</td>\n",
       "      <td>NaN</td>\n",
       "      <td>NaN</td>\n",
       "      <td>Wellness</td>\n",
       "      <td>F</td>\n",
       "      <td>100000</td>\n",
       "    </tr>\n",
       "    <tr>\n",
       "      <th>86</th>\n",
       "      <td>87</td>\n",
       "      <td>KAPIVA</td>\n",
       "      <td>Thyro Lean Combo</td>\n",
       "      <td>1449.0</td>\n",
       "      <td>NaN</td>\n",
       "      <td>Wellness</td>\n",
       "      <td>F</td>\n",
       "      <td>100000</td>\n",
       "    </tr>\n",
       "    <tr>\n",
       "      <th>88</th>\n",
       "      <td>89</td>\n",
       "      <td>KAPIVA</td>\n",
       "      <td>Cholest Burn Combo</td>\n",
       "      <td>NaN</td>\n",
       "      <td>NaN</td>\n",
       "      <td>Wellness</td>\n",
       "      <td>F</td>\n",
       "      <td>100000</td>\n",
       "    </tr>\n",
       "  </tbody>\n",
       "</table>\n",
       "</div>"
      ],
      "text/plain": [
       "    ID Brand_Name                Detail  Price   Discount_by_company  \\\n",
       "84  85     KAPIVA   Thyro Booster Combo     NaN                  NaN   \n",
       "85  86     KAPIVA  Thyro Advanced Combo     NaN                  NaN   \n",
       "86  87     KAPIVA      Thyro Lean Combo  1449.0                  NaN   \n",
       "88  89     KAPIVA    Cholest Burn Combo     NaN                  NaN   \n",
       "\n",
       "    Segment  Gender  Total_Buying Frequency  \n",
       "84  Wellness      F                  100000  \n",
       "85  Wellness      F                  100000  \n",
       "86  Wellness      F                  100000  \n",
       "88  Wellness      F                  100000  "
      ]
     },
     "execution_count": 10,
     "metadata": {},
     "output_type": "execute_result"
    }
   ],
   "source": [
    "null_rows = df[df.isnull().any(axis=1)]\n",
    "null_rows"
   ]
  },
  {
   "cell_type": "code",
   "execution_count": 11,
   "id": "b30539f3",
   "metadata": {},
   "outputs": [
    {
     "name": "stdout",
     "output_type": "stream",
     "text": [
      "Column names:\n",
      "Index(['ID', 'Brand_Name', 'Detail', 'Price ', 'Discount_by_company',\n",
      "       'Segment ', 'Gender', 'Total_Buying Frequency'],\n",
      "      dtype='object')\n"
     ]
    }
   ],
   "source": [
    "print(\"Column names:\")\n",
    "print(df.columns)\n"
   ]
  },
  {
   "cell_type": "code",
   "execution_count": 12,
   "id": "99169e5d",
   "metadata": {},
   "outputs": [],
   "source": [
    "df.rename(columns={'Segment ': 'Segment', 'Price ': 'Price'}, inplace=True)"
   ]
  },
  {
   "cell_type": "raw",
   "id": "deaf1214",
   "metadata": {},
   "source": [
    "Setting up the nomenclature right so it is easy for us to operate with it"
   ]
  },
  {
   "cell_type": "code",
   "execution_count": 13,
   "id": "421aa7dd",
   "metadata": {},
   "outputs": [
    {
     "name": "stdout",
     "output_type": "stream",
     "text": [
      "Column names:\n",
      "Index(['ID', 'Brand_Name', 'Detail', 'Price', 'Discount_by_company', 'Segment',\n",
      "       'Gender', 'Total_Buying Frequency'],\n",
      "      dtype='object')\n"
     ]
    }
   ],
   "source": [
    "print(\"Column names:\")\n",
    "print(df.columns)"
   ]
  },
  {
   "cell_type": "code",
   "execution_count": 14,
   "id": "981586a2",
   "metadata": {},
   "outputs": [
    {
     "data": {
      "text/plain": [
       "ID                        0\n",
       "Brand_Name                0\n",
       "Detail                    0\n",
       "Price                     3\n",
       "Discount_by_company       4\n",
       "Segment                   0\n",
       "Gender                    0\n",
       "Total_Buying Frequency    0\n",
       "dtype: int64"
      ]
     },
     "execution_count": 14,
     "metadata": {},
     "output_type": "execute_result"
    }
   ],
   "source": [
    "pd.isnull(df).sum()"
   ]
  },
  {
   "cell_type": "code",
   "execution_count": 15,
   "id": "74f19555",
   "metadata": {},
   "outputs": [],
   "source": [
    "mean_price_wellness = df[df['Segment'] == 'Wellness']['Price'].mean()"
   ]
  },
  {
   "cell_type": "code",
   "execution_count": 16,
   "id": "5b6011bc",
   "metadata": {},
   "outputs": [],
   "source": [
    "df['Price'] = df['Price'].fillna(mean_price_wellness)"
   ]
  },
  {
   "cell_type": "code",
   "execution_count": null,
   "id": "d9961d4c",
   "metadata": {},
   "outputs": [],
   "source": []
  },
  {
   "cell_type": "code",
   "execution_count": 17,
   "id": "f9e403bb",
   "metadata": {},
   "outputs": [],
   "source": [
    "mean_discount_wellness = df[df['Segment'] == 'Wellness']['Discount_by_company'].mean()"
   ]
  },
  {
   "cell_type": "code",
   "execution_count": 18,
   "id": "7b6e1f63",
   "metadata": {},
   "outputs": [],
   "source": [
    "df['Discount_by_company'] = df['Discount_by_company'].fillna(mean_discount_wellness)"
   ]
  },
  {
   "cell_type": "code",
   "execution_count": null,
   "id": "5e34367e",
   "metadata": {},
   "outputs": [],
   "source": [
    "Well we replaced the null values of discount and price with mean of price and discount corresponding to their segment \n",
    "i.e = Wellness. "
   ]
  },
  {
   "cell_type": "code",
   "execution_count": 19,
   "id": "5969aeb3",
   "metadata": {},
   "outputs": [
    {
     "name": "stdout",
     "output_type": "stream",
     "text": [
      "Column names:\n",
      "Index(['ID', 'Brand_Name', 'Detail', 'Price', 'Discount_by_company', 'Segment',\n",
      "       'Gender', 'Total_Buying Frequency'],\n",
      "      dtype='object')\n"
     ]
    }
   ],
   "source": [
    "print(\"Column names:\")\n",
    "print(df.columns)"
   ]
  },
  {
   "cell_type": "code",
   "execution_count": null,
   "id": "bdbbcb16",
   "metadata": {},
   "outputs": [],
   "source": [
    "Completed  Data Cleaning and pre processing to conduct EDA on it and generate Insights."
   ]
  },
  {
   "cell_type": "markdown",
   "id": "a59d1121",
   "metadata": {},
   "source": [
    "# EXPLORATORY DATA  ANALYSIS"
   ]
  },
  {
   "cell_type": "raw",
   "id": "5feea6d7",
   "metadata": {},
   "source": [
    "# Lets save cleaned data with other name"
   ]
  },
  {
   "cell_type": "code",
   "execution_count": 20,
   "id": "18aaad2b",
   "metadata": {},
   "outputs": [],
   "source": [
    "cleaned_df = df.copy()"
   ]
  },
  {
   "cell_type": "code",
   "execution_count": 21,
   "id": "40468c59",
   "metadata": {},
   "outputs": [
    {
     "name": "stdout",
     "output_type": "stream",
     "text": [
      "<class 'pandas.core.frame.DataFrame'>\n",
      "RangeIndex: 107 entries, 0 to 106\n",
      "Data columns (total 8 columns):\n",
      " #   Column                  Non-Null Count  Dtype  \n",
      "---  ------                  --------------  -----  \n",
      " 0   ID                      107 non-null    int64  \n",
      " 1   Brand_Name              107 non-null    object \n",
      " 2   Detail                  107 non-null    object \n",
      " 3   Price                   107 non-null    float64\n",
      " 4   Discount_by_company     107 non-null    float64\n",
      " 5   Segment                 107 non-null    object \n",
      " 6   Gender                  107 non-null    object \n",
      " 7   Total_Buying Frequency  107 non-null    int64  \n",
      "dtypes: float64(2), int64(2), object(4)\n",
      "memory usage: 6.8+ KB\n"
     ]
    }
   ],
   "source": [
    "cleaned_df.info()"
   ]
  },
  {
   "cell_type": "code",
   "execution_count": 22,
   "id": "88e32923",
   "metadata": {},
   "outputs": [],
   "source": [
    "cleaned_df.to_csv('cleaned_dataset.csv', index=False)"
   ]
  },
  {
   "cell_type": "code",
   "execution_count": 23,
   "id": "79e9e753",
   "metadata": {},
   "outputs": [
    {
     "data": {
      "text/html": [
       "<div>\n",
       "<style scoped>\n",
       "    .dataframe tbody tr th:only-of-type {\n",
       "        vertical-align: middle;\n",
       "    }\n",
       "\n",
       "    .dataframe tbody tr th {\n",
       "        vertical-align: top;\n",
       "    }\n",
       "\n",
       "    .dataframe thead th {\n",
       "        text-align: right;\n",
       "    }\n",
       "</style>\n",
       "<table border=\"1\" class=\"dataframe\">\n",
       "  <thead>\n",
       "    <tr style=\"text-align: right;\">\n",
       "      <th></th>\n",
       "      <th>ID</th>\n",
       "      <th>Brand_Name</th>\n",
       "      <th>Detail</th>\n",
       "      <th>Price</th>\n",
       "      <th>Discount_by_company</th>\n",
       "      <th>Segment</th>\n",
       "      <th>Gender</th>\n",
       "      <th>Total_Buying Frequency</th>\n",
       "    </tr>\n",
       "  </thead>\n",
       "  <tbody>\n",
       "    <tr>\n",
       "      <th>0</th>\n",
       "      <td>1</td>\n",
       "      <td>BEARDO</td>\n",
       "      <td>Perfume Combo</td>\n",
       "      <td>999.0</td>\n",
       "      <td>72.0</td>\n",
       "      <td>Fragnance</td>\n",
       "      <td>M</td>\n",
       "      <td>100000</td>\n",
       "    </tr>\n",
       "    <tr>\n",
       "      <th>1</th>\n",
       "      <td>2</td>\n",
       "      <td>BEARDO</td>\n",
       "      <td>Beard growth</td>\n",
       "      <td>599.0</td>\n",
       "      <td>61.0</td>\n",
       "      <td>Beard</td>\n",
       "      <td>M</td>\n",
       "      <td>100000</td>\n",
       "    </tr>\n",
       "    <tr>\n",
       "      <th>2</th>\n",
       "      <td>3</td>\n",
       "      <td>BEARDO</td>\n",
       "      <td>Bodywash</td>\n",
       "      <td>699.0</td>\n",
       "      <td>23.0</td>\n",
       "      <td>Skin</td>\n",
       "      <td>M</td>\n",
       "      <td>150000</td>\n",
       "    </tr>\n",
       "    <tr>\n",
       "      <th>3</th>\n",
       "      <td>4</td>\n",
       "      <td>BEARDO</td>\n",
       "      <td>Summer Pack</td>\n",
       "      <td>999.0</td>\n",
       "      <td>61.0</td>\n",
       "      <td>All</td>\n",
       "      <td>M</td>\n",
       "      <td>150000</td>\n",
       "    </tr>\n",
       "    <tr>\n",
       "      <th>4</th>\n",
       "      <td>5</td>\n",
       "      <td>BEARDO</td>\n",
       "      <td>PerfumeWhisky Smoke</td>\n",
       "      <td>599.0</td>\n",
       "      <td>51.0</td>\n",
       "      <td>Fragnance</td>\n",
       "      <td>M</td>\n",
       "      <td>75000</td>\n",
       "    </tr>\n",
       "  </tbody>\n",
       "</table>\n",
       "</div>"
      ],
      "text/plain": [
       "   ID Brand_Name               Detail  Price  Discount_by_company    Segment  \\\n",
       "0   1     BEARDO        Perfume Combo  999.0                 72.0  Fragnance   \n",
       "1   2     BEARDO         Beard growth  599.0                 61.0      Beard   \n",
       "2   3     BEARDO             Bodywash  699.0                 23.0       Skin   \n",
       "3   4     BEARDO          Summer Pack  999.0                 61.0        All   \n",
       "4   5     BEARDO  PerfumeWhisky Smoke  599.0                 51.0  Fragnance   \n",
       "\n",
       "  Gender  Total_Buying Frequency  \n",
       "0      M                  100000  \n",
       "1      M                  100000  \n",
       "2      M                  150000  \n",
       "3      M                  150000  \n",
       "4      M                   75000  "
      ]
     },
     "execution_count": 23,
     "metadata": {},
     "output_type": "execute_result"
    }
   ],
   "source": [
    "cleaned_df.head()"
   ]
  },
  {
   "cell_type": "code",
   "execution_count": 80,
   "id": "c4299436",
   "metadata": {},
   "outputs": [
    {
     "data": {
      "image/png": "[encoded data removed]",
      "text/plain": [
       "<Figure size 360x360 with 1 Axes>"
      ]
     },
     "metadata": {},
     "output_type": "display_data"
    }
   ],
   "source": [
    "ax = sns.countplot(x = 'Brand_Name',data = cleaned_df)\n",
    "plt.title('Number of products per brand')\n",
    "sns.set(rc={'figure.figsize':(5,3)})\n",
    "for bars in ax.containers:\n",
    "    ax.bar_label(bars)"
   ]
  },
  {
   "cell_type": "raw",
   "id": "fca67add",
   "metadata": {},
   "source": [
    "Beardo sold 62 products whereas Kapiva sold 45 products"
   ]
  },
  {
   "cell_type": "code",
   "execution_count": 25,
   "id": "78275cb3",
   "metadata": {},
   "outputs": [
    {
     "data": {
      "text/plain": [
       "BEARDO    62\n",
       "KAPIVA    45\n",
       "Name: Brand_Name, dtype: int64"
      ]
     },
     "execution_count": 25,
     "metadata": {},
     "output_type": "execute_result"
    }
   ],
   "source": [
    "cleaned_df['Brand_Name'].value_counts()"
   ]
  },
  {
   "cell_type": "code",
   "execution_count": 85,
   "id": "2c31350a",
   "metadata": {},
   "outputs": [],
   "source": [
    "brand_segment_count = df.groupby('Brand_Name')['Segment'].nunique().reset_index()\n"
   ]
  },
  {
   "cell_type": "code",
   "execution_count": 86,
   "id": "5dc1bead",
   "metadata": {},
   "outputs": [
    {
     "data": {
      "text/html": [
       "<div>\n",
       "<style scoped>\n",
       "    .dataframe tbody tr th:only-of-type {\n",
       "        vertical-align: middle;\n",
       "    }\n",
       "\n",
       "    .dataframe tbody tr th {\n",
       "        vertical-align: top;\n",
       "    }\n",
       "\n",
       "    .dataframe thead th {\n",
       "        text-align: right;\n",
       "    }\n",
       "</style>\n",
       "<table border=\"1\" class=\"dataframe\">\n",
       "  <thead>\n",
       "    <tr style=\"text-align: right;\">\n",
       "      <th></th>\n",
       "      <th>Brand_Name</th>\n",
       "      <th>Segment</th>\n",
       "    </tr>\n",
       "  </thead>\n",
       "  <tbody>\n",
       "    <tr>\n",
       "      <th>0</th>\n",
       "      <td>BEARDO</td>\n",
       "      <td>9</td>\n",
       "    </tr>\n",
       "    <tr>\n",
       "      <th>1</th>\n",
       "      <td>KAPIVA</td>\n",
       "      <td>5</td>\n",
       "    </tr>\n",
       "  </tbody>\n",
       "</table>\n",
       "</div>"
      ],
      "text/plain": [
       "  Brand_Name  Segment\n",
       "0     BEARDO        9\n",
       "1     KAPIVA        5"
      ]
     },
     "execution_count": 86,
     "metadata": {},
     "output_type": "execute_result"
    }
   ],
   "source": [
    "brand_segment_count"
   ]
  },
  {
   "cell_type": "code",
   "execution_count": 88,
   "id": "10b404d9",
   "metadata": {},
   "outputs": [
    {
     "data": {
      "text/plain": [
       "<AxesSubplot:title={'center':'Number of segments per brand'}, xlabel='Brand_Name', ylabel='Segment'>"
      ]
     },
     "execution_count": 88,
     "metadata": {},
     "output_type": "execute_result"
    },
    {
     "data": {
      "image/png": "[encoded data removed]",
      "text/plain": [
       "<Figure size 360x216 with 1 Axes>"
      ]
     },
     "metadata": {},
     "output_type": "display_data"
    }
   ],
   "source": [
    "plt.title('Number of segments per brand')\n",
    "sns.barplot(data = brand_segment_count, x ='Brand_Name',y= 'Segment')\n"
   ]
  },
  {
   "cell_type": "raw",
   "id": "6323de60",
   "metadata": {},
   "source": [
    "Beardo has 9 different Segments where as Kapiva has 5 segments."
   ]
  },
  {
   "cell_type": "code",
   "execution_count": 94,
   "id": "2629045b",
   "metadata": {},
   "outputs": [
    {
     "data": {
      "image/png": "[encoded data removed]",
      "text/plain": [
       "<Figure size 2160x360 with 1 Axes>"
      ]
     },
     "metadata": {},
     "output_type": "display_data"
    }
   ],
   "source": [
    "ax = sns.countplot(x = 'Segment',data = cleaned_df)\n",
    "sns.set(rc={'figure.figsize':(30,12)})\n",
    "plt.title('Count of products per segment')\n",
    "for bars in ax.containers:\n",
    "    ax.bar_label(bars)"
   ]
  },
  {
   "cell_type": "markdown",
   "id": "96522303",
   "metadata": {},
   "source": [
    "Skin was the most sold segment while if we talk about Beardo , beardo flagship products were sold very less in number.If we talk about Kapiva Woman woman wellness did not got that much buyers but they sold gym and weight management products the most."
   ]
  },
  {
   "cell_type": "code",
   "execution_count": 36,
   "id": "c7b53277",
   "metadata": {},
   "outputs": [
    {
     "data": {
      "image/png": "[encoded data removed]",
      "text/plain": [
       "<Figure size 1440x360 with 1 Axes>"
      ]
     },
     "metadata": {},
     "output_type": "display_data"
    }
   ],
   "source": [
    "ax = sns.countplot(x = 'Segment', hue = 'Brand_Name',data = cleaned_df)\n",
    "sns.set(rc={'figure.figsize':(20,5)})\n",
    "for bars in ax.containers:\n",
    "    ax.bar_label(bars)"
   ]
  },
  {
   "cell_type": "raw",
   "id": "70a3eb88",
   "metadata": {},
   "source": [
    "Well we can observe that for both the brands Skin was the most sold segment bt Kapiva also sold a good number of products in\n",
    "Weight Management Segment"
   ]
  },
  {
   "cell_type": "code",
   "execution_count": null,
   "id": "428782c4",
   "metadata": {},
   "outputs": [],
   "source": []
  },
  {
   "cell_type": "code",
   "execution_count": 31,
   "id": "b3e930c7",
   "metadata": {},
   "outputs": [
    {
     "data": {
      "text/html": [
       "<div>\n",
       "<style scoped>\n",
       "    .dataframe tbody tr th:only-of-type {\n",
       "        vertical-align: middle;\n",
       "    }\n",
       "\n",
       "    .dataframe tbody tr th {\n",
       "        vertical-align: top;\n",
       "    }\n",
       "\n",
       "    .dataframe thead th {\n",
       "        text-align: right;\n",
       "    }\n",
       "</style>\n",
       "<table border=\"1\" class=\"dataframe\">\n",
       "  <thead>\n",
       "    <tr style=\"text-align: right;\">\n",
       "      <th></th>\n",
       "      <th>ID</th>\n",
       "      <th>Brand_Name</th>\n",
       "      <th>Detail</th>\n",
       "      <th>Price</th>\n",
       "      <th>Discount_by_company</th>\n",
       "      <th>Segment</th>\n",
       "      <th>Gender</th>\n",
       "      <th>Total_Buying Frequency</th>\n",
       "    </tr>\n",
       "  </thead>\n",
       "  <tbody>\n",
       "    <tr>\n",
       "      <th>0</th>\n",
       "      <td>1</td>\n",
       "      <td>BEARDO</td>\n",
       "      <td>Perfume Combo</td>\n",
       "      <td>999.0</td>\n",
       "      <td>72.0</td>\n",
       "      <td>Fragnance</td>\n",
       "      <td>M</td>\n",
       "      <td>100000</td>\n",
       "    </tr>\n",
       "    <tr>\n",
       "      <th>1</th>\n",
       "      <td>2</td>\n",
       "      <td>BEARDO</td>\n",
       "      <td>Beard growth</td>\n",
       "      <td>599.0</td>\n",
       "      <td>61.0</td>\n",
       "      <td>Beard</td>\n",
       "      <td>M</td>\n",
       "      <td>100000</td>\n",
       "    </tr>\n",
       "    <tr>\n",
       "      <th>2</th>\n",
       "      <td>3</td>\n",
       "      <td>BEARDO</td>\n",
       "      <td>Bodywash</td>\n",
       "      <td>699.0</td>\n",
       "      <td>23.0</td>\n",
       "      <td>Skin</td>\n",
       "      <td>M</td>\n",
       "      <td>150000</td>\n",
       "    </tr>\n",
       "    <tr>\n",
       "      <th>3</th>\n",
       "      <td>4</td>\n",
       "      <td>BEARDO</td>\n",
       "      <td>Summer Pack</td>\n",
       "      <td>999.0</td>\n",
       "      <td>61.0</td>\n",
       "      <td>All</td>\n",
       "      <td>M</td>\n",
       "      <td>150000</td>\n",
       "    </tr>\n",
       "    <tr>\n",
       "      <th>4</th>\n",
       "      <td>5</td>\n",
       "      <td>BEARDO</td>\n",
       "      <td>PerfumeWhisky Smoke</td>\n",
       "      <td>599.0</td>\n",
       "      <td>51.0</td>\n",
       "      <td>Fragnance</td>\n",
       "      <td>M</td>\n",
       "      <td>75000</td>\n",
       "    </tr>\n",
       "  </tbody>\n",
       "</table>\n",
       "</div>"
      ],
      "text/plain": [
       "   ID Brand_Name               Detail  Price  Discount_by_company    Segment  \\\n",
       "0   1     BEARDO        Perfume Combo  999.0                 72.0  Fragnance   \n",
       "1   2     BEARDO         Beard growth  599.0                 61.0      Beard   \n",
       "2   3     BEARDO             Bodywash  699.0                 23.0       Skin   \n",
       "3   4     BEARDO          Summer Pack  999.0                 61.0        All   \n",
       "4   5     BEARDO  PerfumeWhisky Smoke  599.0                 51.0  Fragnance   \n",
       "\n",
       "  Gender  Total_Buying Frequency  \n",
       "0      M                  100000  \n",
       "1      M                  100000  \n",
       "2      M                  150000  \n",
       "3      M                  150000  \n",
       "4      M                   75000  "
      ]
     },
     "execution_count": 31,
     "metadata": {},
     "output_type": "execute_result"
    }
   ],
   "source": [
    "\n",
    "cleaned_df.head()"
   ]
  },
  {
   "cell_type": "code",
   "execution_count": 49,
   "id": "e2ff612e",
   "metadata": {},
   "outputs": [],
   "source": [
    "segment_grouped_df = df.groupby('Segment')['Total_Buying Frequency'].sum().reset_index()"
   ]
  },
  {
   "cell_type": "code",
   "execution_count": 50,
   "id": "29e6dc93",
   "metadata": {},
   "outputs": [
    {
     "data": {
      "text/html": [
       "<div>\n",
       "<style scoped>\n",
       "    .dataframe tbody tr th:only-of-type {\n",
       "        vertical-align: middle;\n",
       "    }\n",
       "\n",
       "    .dataframe tbody tr th {\n",
       "        vertical-align: top;\n",
       "    }\n",
       "\n",
       "    .dataframe thead th {\n",
       "        text-align: right;\n",
       "    }\n",
       "</style>\n",
       "<table border=\"1\" class=\"dataframe\">\n",
       "  <thead>\n",
       "    <tr style=\"text-align: right;\">\n",
       "      <th></th>\n",
       "      <th>Segment</th>\n",
       "      <th>Total_Buying Frequency</th>\n",
       "    </tr>\n",
       "  </thead>\n",
       "  <tbody>\n",
       "    <tr>\n",
       "      <th>0</th>\n",
       "      <td>All</td>\n",
       "      <td>1040000</td>\n",
       "    </tr>\n",
       "    <tr>\n",
       "      <th>1</th>\n",
       "      <td>Apparel</td>\n",
       "      <td>40000</td>\n",
       "    </tr>\n",
       "    <tr>\n",
       "      <th>2</th>\n",
       "      <td>Beard</td>\n",
       "      <td>1386000</td>\n",
       "    </tr>\n",
       "    <tr>\n",
       "      <th>3</th>\n",
       "      <td>Beardo</td>\n",
       "      <td>200000</td>\n",
       "    </tr>\n",
       "    <tr>\n",
       "      <th>4</th>\n",
       "      <td>Fragnance</td>\n",
       "      <td>315000</td>\n",
       "    </tr>\n",
       "  </tbody>\n",
       "</table>\n",
       "</div>"
      ],
      "text/plain": [
       "     Segment  Total_Buying Frequency\n",
       "0        All                 1040000\n",
       "1    Apparel                   40000\n",
       "2      Beard                 1386000\n",
       "3     Beardo                  200000\n",
       "4  Fragnance                  315000"
      ]
     },
     "execution_count": 50,
     "metadata": {},
     "output_type": "execute_result"
    }
   ],
   "source": [
    "segment_grouped_df.head()"
   ]
  },
  {
   "cell_type": "code",
   "execution_count": null,
   "id": "ba80e88b",
   "metadata": {},
   "outputs": [],
   "source": []
  },
  {
   "cell_type": "code",
   "execution_count": 99,
   "id": "d9c116e7",
   "metadata": {},
   "outputs": [],
   "source": [
    "brand_grouped_df = df.groupby(['Segment', 'Brand_Name'])['Total_Buying Frequency'].sum().reset_index()"
   ]
  },
  {
   "cell_type": "code",
   "execution_count": 100,
   "id": "eb69581d",
   "metadata": {},
   "outputs": [
    {
     "data": {
      "text/html": [
       "<div>\n",
       "<style scoped>\n",
       "    .dataframe tbody tr th:only-of-type {\n",
       "        vertical-align: middle;\n",
       "    }\n",
       "\n",
       "    .dataframe tbody tr th {\n",
       "        vertical-align: top;\n",
       "    }\n",
       "\n",
       "    .dataframe thead th {\n",
       "        text-align: right;\n",
       "    }\n",
       "</style>\n",
       "<table border=\"1\" class=\"dataframe\">\n",
       "  <thead>\n",
       "    <tr style=\"text-align: right;\">\n",
       "      <th></th>\n",
       "      <th>Segment</th>\n",
       "      <th>Brand_Name</th>\n",
       "      <th>Total_Buying Frequency</th>\n",
       "    </tr>\n",
       "  </thead>\n",
       "  <tbody>\n",
       "    <tr>\n",
       "      <th>0</th>\n",
       "      <td>All</td>\n",
       "      <td>BEARDO</td>\n",
       "      <td>1040000</td>\n",
       "    </tr>\n",
       "    <tr>\n",
       "      <th>1</th>\n",
       "      <td>Apparel</td>\n",
       "      <td>BEARDO</td>\n",
       "      <td>40000</td>\n",
       "    </tr>\n",
       "    <tr>\n",
       "      <th>2</th>\n",
       "      <td>Beard</td>\n",
       "      <td>BEARDO</td>\n",
       "      <td>1386000</td>\n",
       "    </tr>\n",
       "    <tr>\n",
       "      <th>3</th>\n",
       "      <td>Beardo</td>\n",
       "      <td>BEARDO</td>\n",
       "      <td>200000</td>\n",
       "    </tr>\n",
       "    <tr>\n",
       "      <th>4</th>\n",
       "      <td>Fragnance</td>\n",
       "      <td>BEARDO</td>\n",
       "      <td>315000</td>\n",
       "    </tr>\n",
       "    <tr>\n",
       "      <th>5</th>\n",
       "      <td>Gym</td>\n",
       "      <td>KAPIVA</td>\n",
       "      <td>925000</td>\n",
       "    </tr>\n",
       "    <tr>\n",
       "      <th>6</th>\n",
       "      <td>Hair</td>\n",
       "      <td>BEARDO</td>\n",
       "      <td>925000</td>\n",
       "    </tr>\n",
       "    <tr>\n",
       "      <th>7</th>\n",
       "      <td>Hair</td>\n",
       "      <td>BEARDO</td>\n",
       "      <td>175000</td>\n",
       "    </tr>\n",
       "    <tr>\n",
       "      <th>8</th>\n",
       "      <td>Hair and Beard</td>\n",
       "      <td>BEARDO</td>\n",
       "      <td>625000</td>\n",
       "    </tr>\n",
       "    <tr>\n",
       "      <th>9</th>\n",
       "      <td>Skin</td>\n",
       "      <td>BEARDO</td>\n",
       "      <td>2082000</td>\n",
       "    </tr>\n",
       "    <tr>\n",
       "      <th>10</th>\n",
       "      <td>Skin</td>\n",
       "      <td>KAPIVA</td>\n",
       "      <td>2950000</td>\n",
       "    </tr>\n",
       "    <tr>\n",
       "      <th>11</th>\n",
       "      <td>Weight Management</td>\n",
       "      <td>KAPIVA</td>\n",
       "      <td>900550</td>\n",
       "    </tr>\n",
       "    <tr>\n",
       "      <th>12</th>\n",
       "      <td>Wellness</td>\n",
       "      <td>KAPIVA</td>\n",
       "      <td>1100000</td>\n",
       "    </tr>\n",
       "    <tr>\n",
       "      <th>13</th>\n",
       "      <td>Woman wellness</td>\n",
       "      <td>KAPIVA</td>\n",
       "      <td>1700000</td>\n",
       "    </tr>\n",
       "  </tbody>\n",
       "</table>\n",
       "</div>"
      ],
      "text/plain": [
       "              Segment Brand_Name  Total_Buying Frequency\n",
       "0                 All     BEARDO                 1040000\n",
       "1             Apparel     BEARDO                   40000\n",
       "2               Beard     BEARDO                 1386000\n",
       "3              Beardo     BEARDO                  200000\n",
       "4           Fragnance     BEARDO                  315000\n",
       "5                 Gym     KAPIVA                  925000\n",
       "6                Hair     BEARDO                  925000\n",
       "7               Hair      BEARDO                  175000\n",
       "8      Hair and Beard     BEARDO                  625000\n",
       "9                Skin     BEARDO                 2082000\n",
       "10               Skin     KAPIVA                 2950000\n",
       "11  Weight Management     KAPIVA                  900550\n",
       "12           Wellness     KAPIVA                 1100000\n",
       "13     Woman wellness     KAPIVA                 1700000"
      ]
     },
     "execution_count": 100,
     "metadata": {},
     "output_type": "execute_result"
    }
   ],
   "source": [
    "brand_grouped_df"
   ]
  },
  {
   "cell_type": "code",
   "execution_count": 106,
   "id": "2163b59a",
   "metadata": {},
   "outputs": [
    {
     "data": {
      "text/plain": [
       "<AxesSubplot:title={'center':'Comparison between both the brands'}, xlabel='Segment', ylabel='Total_Buying Frequency'>"
      ]
     },
     "execution_count": 106,
     "metadata": {},
     "output_type": "execute_result"
    },
    {
     "data": {
      "image/png": "[encoded data removed]",
      "text/plain": [
       "<Figure size 1296x504 with 1 Axes>"
      ]
     },
     "metadata": {},
     "output_type": "display_data"
    }
   ],
   "source": [
    "sns.set(rc={'figure.figsize':(18,7)})\n",
    "plt.title('Comparison between both the brands')\n",
    "sns.barplot(data =brand_grouped_df , x ='Segment',y= 'Total_Buying Frequency', hue='Brand_Name')"
   ]
  },
  {
   "cell_type": "code",
   "execution_count": 102,
   "id": "e0f70b0b",
   "metadata": {},
   "outputs": [],
   "source": [
    "discount_grouped_df = df.groupby(['Segment', 'Brand_Name'])['Discount_by_company'].sum().reset_index()"
   ]
  },
  {
   "cell_type": "code",
   "execution_count": 104,
   "id": "13ebd5cc",
   "metadata": {},
   "outputs": [
    {
     "data": {
      "text/plain": [
       "<AxesSubplot:title={'center':'Total Discount Offered for each domain per brand'}, xlabel='Segment', ylabel='Discount_by_company'>"
      ]
     },
     "execution_count": 104,
     "metadata": {},
     "output_type": "execute_result"
    },
    {
     "data": {
      "image/png": "[encoded data removed]",
      "text/plain": [
       "<Figure size 1872x360 with 1 Axes>"
      ]
     },
     "metadata": {},
     "output_type": "display_data"
    }
   ],
   "source": [
    "sns.set(rc={'figure.figsize':(26,5)})\n",
    "plt.title('Total Discount Offered for each domain per brand')\n",
    "sns.barplot(data =discount_grouped_df , x ='Segment',y= 'Discount_by_company',hue = 'Brand_Name')"
   ]
  },
  {
   "cell_type": "markdown",
   "id": "9c793e18",
   "metadata": {},
   "source": [
    "Here we can observe that Skin segment had the most discount for both the brands , but if we talk about beardo it discounted the combo segments quite well and Kapiva discounted the wellness segments ."
   ]
  },
  {
   "cell_type": "code",
   "execution_count": null,
   "id": "0e1e6a8c",
   "metadata": {},
   "outputs": [],
   "source": []
  }
 ],
 "metadata": {
  "kernelspec": {
   "display_name": "Python 3 (ipykernel)",
   "language": "python",
   "name": "python3"
  },
  "language_info": {
   "codemirror_mode": {
    "name": "ipython",
    "version": 3
   },
   "file_extension": ".py",
   "mimetype": "text/x-python",
   "name": "python",
   "nbconvert_exporter": "python",
   "pygments_lexer": "ipython3",
   "version": "3.9.12"
  }
 },
 "nbformat": 4,
 "nbformat_minor": 5
}
